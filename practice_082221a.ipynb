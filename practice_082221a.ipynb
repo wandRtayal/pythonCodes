{
 "cells": [
  {
   "cell_type": "code",
   "execution_count": null,
   "id": "b086fa25",
   "metadata": {},
   "outputs": [],
   "source": []
  },
  {
   "cell_type": "code",
   "execution_count": 7,
   "id": "cb78b679",
   "metadata": {},
   "outputs": [
    {
     "name": "stdout",
     "output_type": "stream",
     "text": [
      "0, 1, 1, 2, 3, 5, 8, 13, 21, 34, 55, 89, 144, 233, 377, 610, 987, "
     ]
    }
   ],
   "source": [
    "#fibonacci series under 1000\n",
    "\n",
    "a, b =0, 1\n",
    "\n",
    "while(a<1000):\n",
    "    print(a, end=', ', flush=True)\n",
    "    a, b = b, a+b\n"
   ]
  },
  {
   "cell_type": "code",
   "execution_count": 14,
   "id": "b3df5b51",
   "metadata": {},
   "outputs": [
    {
     "name": "stdout",
     "output_type": "stream",
     "text": [
      "0 1 2 3 5 7 11 13 17 19 23 29 31 37 41 43 47 53 59 61 67 71 73 79 83 89 97 "
     ]
    }
   ],
   "source": [
    "#Prime numbers under 100\n",
    "\n",
    "\n",
    "for i in range(0,100):\n",
    "    flag=0\n",
    "    for j in range(2,i):\n",
    "        if i%j == 0:\n",
    "            flag =1\n",
    "            break\n",
    "    if flag != 1:\n",
    "        print(i, end= ' ')"
   ]
  },
  {
   "cell_type": "code",
   "execution_count": 13,
   "id": "14427808",
   "metadata": {},
   "outputs": [
    {
     "name": "stdout",
     "output_type": "stream",
     "text": [
      "5 is prime\n"
     ]
    }
   ],
   "source": [
    "#Prime numbers\n",
    "\n",
    "def isprime(n):\n",
    "    if n <= 1:\n",
    "        return False\n",
    "    for x in range(2, n):\n",
    "        if n % x == 0:\n",
    "            return False\n",
    "    else:\n",
    "        return True\n",
    "\n",
    "n = 5\n",
    "if isprime(n):\n",
    "    print(f'{n} is prime')\n",
    "else:\n",
    "    print(f'{n} not prime')\n",
    "\n"
   ]
  },
  {
   "cell_type": "code",
   "execution_count": 41,
   "id": "d7a2d48f",
   "metadata": {},
   "outputs": [
    {
     "name": "stdout",
     "output_type": "stream",
     "text": [
      "Area is 16\n"
     ]
    }
   ],
   "source": [
    "#starting with class\n",
    "\n",
    "class Square:\n",
    "    side = 4\n",
    "    def area(self):\n",
    "        area = self.side* self.side\n",
    "        #print(area)\n",
    "        print('Area is {}'.format(area))\n",
    "\n",
    "def main():\n",
    "    square1 = Square()\n",
    "    square1.area()\n",
    "    \n",
    "if __name__ == '__main__': main()"
   ]
  },
  {
   "cell_type": "code",
   "execution_count": 29,
   "id": "cba4f29c",
   "metadata": {},
   "outputs": [
    {
     "name": "stdout",
     "output_type": "stream",
     "text": [
      "Quaaack!\n",
      "Walks like a duck.\n"
     ]
    }
   ],
   "source": [
    "class Duck:\n",
    "    def quack(self):\n",
    "        print('Quaaack!')\n",
    "\n",
    "    def walk(self):\n",
    "        print('Walks like a duck.')\n",
    "\n",
    "def main():\n",
    "    donald = Duck()\n",
    "    donald.quack()\n",
    "    donald.walk()\n",
    "\n",
    "if __name__ == '__main__': main()\n"
   ]
  },
  {
   "cell_type": "code",
   "execution_count": 45,
   "id": "532b4157",
   "metadata": {},
   "outputs": [
    {
     "name": "stdout",
     "output_type": "stream",
     "text": [
      "one\n",
      "two\n",
      "three\n",
      "four\n",
      "five\n",
      "<class 'list'>\n"
     ]
    }
   ],
   "source": [
    "#using list\n",
    "words = ['one', 'two', 'three', 'four', 'five']\n",
    "\n",
    "n = 0\n",
    "while(n < 5):\n",
    "    print(words[n])\n",
    "    n += 1\n",
    "\n",
    "print(type(words))"
   ]
  },
  {
   "cell_type": "code",
   "execution_count": 44,
   "id": "6a103a31",
   "metadata": {},
   "outputs": [
    {
     "name": "stdout",
     "output_type": "stream",
     "text": [
      "<class 'int'>\n",
      "<class 'float'>\n",
      "<class 'str'>\n",
      "<class 'bool'>\n",
      "<class 'NoneType'>\n"
     ]
    }
   ],
   "source": [
    "#data types\n",
    "a=51\n",
    "b= 51.0\n",
    "c = '51'\n",
    "d= True\n",
    "e= None\n",
    "print(type(a))\n",
    "print(type(b))\n",
    "print(type(c))\n",
    "print(type(d))\n",
    "print(type(e))"
   ]
  },
  {
   "cell_type": "code",
   "execution_count": 48,
   "id": "4b5a12a4",
   "metadata": {},
   "outputs": [
    {
     "name": "stdout",
     "output_type": "stream",
     "text": [
      "\n",
      "this is a multi-line\n",
      "\n",
      "string\n",
      "\n",
      "\n",
      "\n",
      "\n",
      "this is also a \n",
      "\n",
      "multi-line string\n",
      "\n",
      "\n"
     ]
    }
   ],
   "source": [
    "#working with Strings\n",
    "#no difference in single quote or double quotes\n",
    "#use three quotes for multi-line string\n",
    "line = '''\n",
    "this is a multi-line\n",
    "\n",
    "string\n",
    "\n",
    "'''\n",
    "\n",
    "line1 = \"\"\"\n",
    "\n",
    "this is also a \n",
    "\n",
    "multi-line string\n",
    "\n",
    "\"\"\"\n",
    "\n",
    "print(line)\n",
    "print(line1)"
   ]
  },
  {
   "cell_type": "code",
   "execution_count": 83,
   "id": "d5fd57b8",
   "metadata": {},
   "outputs": [
    {
     "name": "stdout",
     "output_type": "stream",
     "text": [
      "Mystring\n",
      "MYSTRING\n",
      "mystring\n",
      "mystring\n",
      "1\n",
      "0\n",
      "5\n",
      "False\n",
      "False\n",
      "('My', 'S', 'tring')\n",
      "MySTring\n",
      "['My', 'tring']\n",
      "mYsTRING\n",
      "False\n",
      "Mystring\n"
     ]
    }
   ],
   "source": [
    "#functions on strings\n",
    "x = 'MyString'\n",
    "print(x.capitalize())\n",
    "print(x.upper())\n",
    "print(x.lower())\n",
    "print(x.casefold())\n",
    "print(x.count('M'))\n",
    "print(x.find('M'))\n",
    "print(x.index('i'))\n",
    "print(x.isdigit())\n",
    "print(x.islower())\n",
    "print(x.partition('S'))\n",
    "print(x.replace('t','T'))\n",
    "print(x.split('S'))\n",
    "print(x.swapcase())\n",
    "print(x.startswith('A'))\n",
    "print(x.title())\n"
   ]
  },
  {
   "cell_type": "code",
   "execution_count": 99,
   "id": "6f2db830",
   "metadata": {},
   "outputs": [
    {
     "name": "stdout",
     "output_type": "stream",
     "text": [
      "seven 8 9\n",
      "seven 9 8\n",
      "seven \"900000000\" ...\"00008\" \"0010\"\n"
     ]
    }
   ],
   "source": [
    "x= 'seven {} {}'.format(8,9)\n",
    "print(x)\n",
    "y = 'seven {1} {0}'.format(8,9)\n",
    "print(y)\n",
    "z= 'seven \"{1:<09}\" ...\"{0:>05}\" \"{2:>04}\"'.format(8,9,10)\n",
    "print(z)"
   ]
  },
  {
   "cell_type": "code",
   "execution_count": 108,
   "id": "cdf1fc97",
   "metadata": {},
   "outputs": [
    {
     "name": "stdout",
     "output_type": "stream",
     "text": [
      "x is 7\n",
      "<class 'int'>\n",
      "x is 7.0\n",
      "<class 'float'>\n",
      "x is 21\n",
      "<class 'int'>\n",
      "x is 21.0\n",
      "<class 'float'>\n",
      "x is 2.3333333333333335\n",
      "<class 'float'>\n",
      "x is 2\n",
      "<class 'int'>\n",
      "x is 1\n",
      "<class 'int'>\n",
      "x is 5.551115123125783e-17 Accuracy vs. Precision - Python has precision\n",
      "Therefore, dont use floating point numbers with MONEY, instead use decimal library\n",
      "<class 'float'>\n"
     ]
    }
   ],
   "source": [
    "#numeric types\n",
    "\n",
    "x= 7\n",
    "print('x is {}'. format(x))\n",
    "print(type(x))\n",
    "x= 7.0\n",
    "print('x is {}'. format(x))\n",
    "print(type(x))\n",
    "x= 7 *3\n",
    "print('x is {}'. format(x))\n",
    "print(type(x))\n",
    "x= 7 *3.0\n",
    "print('x is {}'. format(x))\n",
    "print(type(x))\n",
    "x= 7 / 3\n",
    "print('x is {}'. format(x))\n",
    "print(type(x))\n",
    "x= 7 // 3\n",
    "print('x is {}'. format(x))\n",
    "print(type(x))\n",
    "x= 7 % 3\n",
    "print('x is {}'. format(x))\n",
    "print(type(x))\n",
    "x= .1+.1+.1 - .3\n",
    "print('x is {}'. format(x) ,'Accuracy vs. Precision - Python has precision')\n",
    "print('Therefore, dont use floating point numbers with MONEY/ACCOUNTING, instead use decimal library')\n",
    "print(type(x))"
   ]
  },
  {
   "cell_type": "code",
   "execution_count": 111,
   "id": "341e73b7",
   "metadata": {},
   "outputs": [
    {
     "name": "stdout",
     "output_type": "stream",
     "text": [
      "0.00\n",
      "<class 'decimal.Decimal'>\n"
     ]
    }
   ],
   "source": [
    "#For use with money/accounting\n",
    "from decimal import *\n",
    "a =Decimal('.10')\n",
    "b = Decimal('.30')\n",
    "x = 3*a - b\n",
    "print(x)\n",
    "print(type(x))"
   ]
  },
  {
   "cell_type": "code",
   "execution_count": 115,
   "id": "6585529a",
   "metadata": {},
   "outputs": [
    {
     "name": "stdout",
     "output_type": "stream",
     "text": [
      "x is True\n",
      "<class 'bool'>\n",
      "x is None Means absence of value\n",
      "<class 'NoneType'>\n",
      "x is False\n",
      "<class 'bool'>\n"
     ]
    }
   ],
   "source": [
    "#Bool Type\n",
    "x = True\n",
    "print('x is {}'. format(x))\n",
    "print(type(x))\n",
    "x = None\n",
    "print('x is {}'. format(x), \"Means absence of value\")\n",
    "print(type(x))\n",
    "x = 7<5\n",
    "print('x is {}'. format(x))\n",
    "print(type(x))\n"
   ]
  },
  {
   "cell_type": "code",
   "execution_count": 123,
   "id": "a7081eff",
   "metadata": {},
   "outputs": [
    {
     "name": "stdout",
     "output_type": "stream",
     "text": [
      "<class 'bool'>\n",
      "true\n",
      "<class 'NoneType'>\n",
      "false\n",
      "<class 'int'> <class 'int'>\n",
      "1 is int for true\n",
      "0  is int for false\n",
      "<class 'str'> <class 'str'>\n",
      "false because  is an empty string\n",
      "true because not_empty_string is not empty string\n",
      "so None, integer 0 and empty string are evaluated as False\n"
     ]
    }
   ],
   "source": [
    "x = 5> 3\n",
    "print(type(x))\n",
    "if x:\n",
    "    print(\"true\")\n",
    "else:\n",
    "    print(\"false\")\n",
    "    \n",
    "x = None\n",
    "print(type(x))\n",
    "if x:\n",
    "    print(\"true\")\n",
    "else:\n",
    "    print(\"false\")\n",
    "\n",
    "x,y = 1,0\n",
    "print(type(x), type(y))\n",
    "if x:\n",
    "    print(\"{} is int for true\".format(x))\n",
    "else:\n",
    "    print(\"{} is int for false\".format(x))\n",
    "\n",
    "if y:\n",
    "    print(\"{} is int for true\".format(y))\n",
    "else:\n",
    "    print(y,\" is int for false\")\n",
    "\n",
    "    \n",
    "x,y = \"\", \"not_empty_string\"\n",
    "print(type(x), type(y))\n",
    "if x:\n",
    "    print(\"true because {} is not empty string\".format(x))\n",
    "else:\n",
    "    print(\"false because {} is an empty string\".format(x))\n",
    "if y:\n",
    "    print(\"true because {} is not empty string\".format(y))\n",
    "else:\n",
    "    print(\"false because {} is an empty string\".format(y))\n",
    "\n",
    "print('so None, integer 0 and empty string are evaluated as False')"
   ]
  }
 ],
 "metadata": {
  "kernelspec": {
   "display_name": "Python 3",
   "language": "python",
   "name": "python3"
  },
  "language_info": {
   "codemirror_mode": {
    "name": "ipython",
    "version": 3
   },
   "file_extension": ".py",
   "mimetype": "text/x-python",
   "name": "python",
   "nbconvert_exporter": "python",
   "pygments_lexer": "ipython3",
   "version": "3.8.8"
  }
 },
 "nbformat": 4,
 "nbformat_minor": 5
}
