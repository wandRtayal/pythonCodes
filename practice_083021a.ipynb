{
 "cells": [
  {
   "cell_type": "code",
   "execution_count": 1,
   "id": "d05b898b",
   "metadata": {},
   "outputs": [],
   "source": [
    "#fizzbuzz1\n",
    "for x in range(1,10):\n",
    "    if x%3==0 and x%5==0:\n",
    "        print('FizzBuzz')\n",
    "    if x%3==0 and x%5!=0:\n",
    "        print('Fizz')\n",
    "    if x%5==0 and x%3!=0:\n",
    "        print('Buzz')\n",
    "    if x%3!=0 and x%5!=0:\n",
    "        print(x)\n",
    "        \n",
    "for i in range(1,10):\n",
    "    if i%15 ==0 :\n",
    "        print('FizzBuzz')\n",
    "    elif i%5 == 0:\n",
    "        print('Buzz')\n",
    "    elif i%3 == 0:\n",
    "        print('Fizz')\n",
    "    else:\n",
    "        print(i)\n",
    "    i +=1"
   ]
  },
  {
   "cell_type": "code",
   "execution_count": null,
   "id": "ff979d16",
   "metadata": {},
   "outputs": [],
   "source": [
    "#fizzbuzz2\n",
    "for x in range(1,10):\n",
    "    # initialize outstring\n",
    "    outstring = ''\n",
    "    \n",
    "    # control logic\n",
    "    if x%3==0: outstring += 'Fizz'\n",
    "    if x%5==0: outstring += 'Buzz'\n",
    "    if x%7==0: outstring += 'Jazz'\n",
    "    # if outstring is empty add the number\n",
    "    if len(outstring)==0: outstring += str(x)\n",
    "    \n",
    "    # print outstring\n",
    "    print(x, outstring)"
   ]
  },
  {
   "cell_type": "code",
   "execution_count": null,
   "id": "cdbb1ba5",
   "metadata": {},
   "outputs": [],
   "source": [
    "#fizzbuzz3\n",
    "mydict = {3:'Fizz',5:'Buzz',7:'Jazz'}\n",
    "for x in range(1,10):\n",
    "    outstring = \"\"\n",
    "    for i in mydict.keys():\n",
    "        if x%i==0: outstring += mydict[i]\n",
    "    if len(outstring)==0: outstring += str(x)\n",
    "    print(outstring)"
   ]
  }
 ],
 "metadata": {
  "kernelspec": {
   "display_name": "Python 3",
   "language": "python",
   "name": "python3"
  },
  "language_info": {
   "codemirror_mode": {
    "name": "ipython",
    "version": 3
   },
   "file_extension": ".py",
   "mimetype": "text/x-python",
   "name": "python",
   "nbconvert_exporter": "python",
   "pygments_lexer": "ipython3",
   "version": "3.8.8"
  }
 },
 "nbformat": 4,
 "nbformat_minor": 5
}
