{
 "cells": [
  {
   "cell_type": "code",
   "execution_count": 1,
   "id": "70619553",
   "metadata": {},
   "outputs": [],
   "source": [
    "import pandas as pd\n",
    "import numpy as np"
   ]
  },
  {
   "cell_type": "code",
   "execution_count": 6,
   "id": "b88f828c",
   "metadata": {},
   "outputs": [
    {
     "name": "stdout",
     "output_type": "stream",
     "text": [
      "0    6\n",
      "1    3\n",
      "2    7\n",
      "3    4\n",
      "dtype: int64\n",
      "   a  b  c  d\n",
      "0  6  9  2  6\n",
      "1  7  4  3  7\n",
      "2  7  2  5  4\n"
     ]
    }
   ],
   "source": [
    "#universal functions in pandas- inherited from numpy \n",
    "#unary operators - preserce index and column labels in output\n",
    "#binary operators - align indices \n",
    "rng = np.random.RandomState(42)\n",
    "ser = pd.Series(rng.randint(0,10,4))\n",
    "print(ser)\n",
    "df = pd.DataFrame(rng.randint(0,10,(3,4)), \n",
    "                 columns = ['a', 'b','c','d'])\n",
    "print(df)"
   ]
  },
  {
   "cell_type": "code",
   "execution_count": 8,
   "id": "d51b67eb",
   "metadata": {},
   "outputs": [
    {
     "name": "stdout",
     "output_type": "stream",
     "text": [
      "exponential on series:  0     403.428793\n",
      "1      20.085537\n",
      "2    1096.633158\n",
      "3      54.598150\n",
      "dtype: float64\n",
      "sin function on dataframe:                a             b             c             d\n",
      "0 -7.347881e-16  1.102182e-15 -2.449294e-16 -7.347881e-16\n",
      "1  8.572528e-16 -4.898587e-16  3.673940e-16  8.572528e-16\n",
      "2  8.572528e-16 -2.449294e-16  6.123234e-16 -4.898587e-16\n"
     ]
    }
   ],
   "source": [
    "#apply unary Ufuncs\n",
    "print(\"exponential on series: \", np.exp(ser))\n",
    "print(\"sin function on dataframe: \",np.sin(df*np.pi))"
   ]
  },
  {
   "cell_type": "code",
   "execution_count": 12,
   "id": "c50f4e20",
   "metadata": {},
   "outputs": [
    {
     "name": "stdout",
     "output_type": "stream",
     "text": [
      "Alaska        17.2\n",
      "Texas          6.9\n",
      "California     4.2\n",
      "dtype: float64\n",
      "New York      196.5\n",
      "Texas         264.4\n",
      "California    383.3\n",
      "dtype: float64\n",
      "population density:  Alaska              NaN\n",
      "California    91.261905\n",
      "New York            NaN\n",
      "Texas         38.318841\n",
      "dtype: float64\n"
     ]
    }
   ],
   "source": [
    "#apply binary Ufuncs\n",
    "area = pd.Series({'Alaska': 17.2, 'Texas': 6.9, 'California': 4.2})\n",
    "print(area)\n",
    "population = pd.Series({'New York': 196.5, 'Texas': 264.4, 'California': 383.3})\n",
    "print(population)\n",
    "print(\"population density: \", population/area)"
   ]
  },
  {
   "cell_type": "code",
   "execution_count": 14,
   "id": "3416d199",
   "metadata": {},
   "outputs": [
    {
     "name": "stdout",
     "output_type": "stream",
     "text": [
      "union of index in 2 series:  Index(['Alaska', 'California', 'New York', 'Texas'], dtype='object')\n",
      "union of index in 2 series:  Index(['Alaska', 'California', 'New York', 'Texas'], dtype='object')\n"
     ]
    },
    {
     "name": "stderr",
     "output_type": "stream",
     "text": [
      "<ipython-input-14-a0b7517d5c27>:1: FutureWarning: Index.__or__ operating as a set operation is deprecated, in the future this will be a logical operation matching Series.__or__.  Use index.union(other) instead\n",
      "  print(\"union of index in 2 series: \", area.index | population.index)\n"
     ]
    }
   ],
   "source": [
    "print(\"union of index in 2 series: \", area.index | population.index)\n",
    "print(\"union of index in 2 series: \", area.index.union(population.index))"
   ]
  },
  {
   "cell_type": "code",
   "execution_count": 15,
   "id": "57266a39",
   "metadata": {},
   "outputs": [
    {
     "data": {
      "text/plain": [
       "0    NaN\n",
       "1    5.0\n",
       "2    9.0\n",
       "3    NaN\n",
       "dtype: float64"
      ]
     },
     "execution_count": 15,
     "metadata": {},
     "output_type": "execute_result"
    }
   ],
   "source": [
    "A = pd.Series([2, 4, 6], index=[0, 1, 2])\n",
    "B = pd.Series([1, 3, 5], index=[1, 2, 3])\n",
    "A + B\n"
   ]
  },
  {
   "cell_type": "code",
   "execution_count": 16,
   "id": "56255e16",
   "metadata": {},
   "outputs": [
    {
     "data": {
      "text/plain": [
       "0    2.0\n",
       "1    5.0\n",
       "2    9.0\n",
       "3    5.0\n",
       "dtype: float64"
      ]
     },
     "execution_count": 16,
     "metadata": {},
     "output_type": "execute_result"
    }
   ],
   "source": [
    "A.add(B, fill_value=0)"
   ]
  },
  {
   "cell_type": "code",
   "execution_count": 35,
   "id": "f967b0ca",
   "metadata": {},
   "outputs": [
    {
     "name": "stdout",
     "output_type": "stream",
     "text": [
      "df1 is:      A   B\n",
      "0   6  19\n",
      "1  14  10\n",
      "df2 is:     B  A  C\n",
      "0  7  4  6\n",
      "1  9  2  6\n",
      "2  7  4  3\n",
      "      A     B   C\n",
      "0  10.0  26.0 NaN\n",
      "1  16.0  19.0 NaN\n",
      "2   NaN   NaN NaN\n",
      "   B  A  C\n",
      "0  7  4  6\n",
      "1  9  2  6\n",
      "2  7  4  3\n",
      "       A      B      C\n",
      "0  10.00  26.00  18.25\n",
      "1  16.00  19.00  18.25\n",
      "2  16.25  19.25  15.25\n"
     ]
    }
   ],
   "source": [
    "#index alignment while using Ufuncs on dataframes\n",
    "rng = np.random.RandomState(42)\n",
    "df1 = pd.DataFrame(rng.randint(0, 20, (2, 2)),\n",
    "                 columns=list('AB'))\n",
    "print(\"df1 is: \",df1)\n",
    "\n",
    "df2 = pd.DataFrame(rng.randint(0, 10, (3, 3)),\n",
    "                 columns=list('BAC'))\n",
    "print(\"df2 is: \",df2)\n",
    "print(df1.add(df2))\n",
    "\n",
    "print(df2)\n",
    "print(df1.add(df2, fill_value =df1.stack().mean()))\n",
    "\n"
   ]
  },
  {
   "cell_type": "code",
   "execution_count": 36,
   "id": "854b0a6b",
   "metadata": {},
   "outputs": [
    {
     "data": {
      "text/html": [
       "<div>\n",
       "<style scoped>\n",
       "    .dataframe tbody tr th:only-of-type {\n",
       "        vertical-align: middle;\n",
       "    }\n",
       "\n",
       "    .dataframe tbody tr th {\n",
       "        vertical-align: top;\n",
       "    }\n",
       "\n",
       "    .dataframe thead th {\n",
       "        text-align: right;\n",
       "    }\n",
       "</style>\n",
       "<table border=\"1\" class=\"dataframe\">\n",
       "  <thead>\n",
       "    <tr style=\"text-align: right;\">\n",
       "      <th></th>\n",
       "      <th>B</th>\n",
       "      <th>A</th>\n",
       "      <th>C</th>\n",
       "    </tr>\n",
       "  </thead>\n",
       "  <tbody>\n",
       "    <tr>\n",
       "      <th>0</th>\n",
       "      <td>0</td>\n",
       "      <td>0</td>\n",
       "      <td>0</td>\n",
       "    </tr>\n",
       "    <tr>\n",
       "      <th>1</th>\n",
       "      <td>2</td>\n",
       "      <td>-2</td>\n",
       "      <td>0</td>\n",
       "    </tr>\n",
       "    <tr>\n",
       "      <th>2</th>\n",
       "      <td>0</td>\n",
       "      <td>0</td>\n",
       "      <td>-3</td>\n",
       "    </tr>\n",
       "  </tbody>\n",
       "</table>\n",
       "</div>"
      ],
      "text/plain": [
       "   B  A  C\n",
       "0  0  0  0\n",
       "1  2 -2  0\n",
       "2  0  0 -3"
      ]
     },
     "execution_count": 36,
     "metadata": {},
     "output_type": "execute_result"
    }
   ],
   "source": [
    "#dataframe and series in operator\n",
    "df2 - df2.iloc[0]\n"
   ]
  }
 ],
 "metadata": {
  "kernelspec": {
   "display_name": "Python 3",
   "language": "python",
   "name": "python3"
  },
  "language_info": {
   "codemirror_mode": {
    "name": "ipython",
    "version": 3
   },
   "file_extension": ".py",
   "mimetype": "text/x-python",
   "name": "python",
   "nbconvert_exporter": "python",
   "pygments_lexer": "ipython3",
   "version": "3.8.8"
  }
 },
 "nbformat": 4,
 "nbformat_minor": 5
}
