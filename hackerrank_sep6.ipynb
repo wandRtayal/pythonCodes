{
 "cells": [
  {
   "cell_type": "code",
   "execution_count": 8,
   "id": "11946766",
   "metadata": {},
   "outputs": [
    {
     "name": "stdout",
     "output_type": "stream",
     "text": [
      "1 2 3 -4\n",
      "['1', '2', '3', '-4']\n",
      "[-4.  3.  2.  1.]\n",
      "<class 'numpy.ndarray'>\n"
     ]
    }
   ],
   "source": [
    "#You are given a space separated list of numbers.\n",
    "#Your task is to print a reversed NumPy array with the element type float.\n",
    "import numpy as np\n",
    "\n",
    "def arrays(arr):\n",
    "    arr1 = np.array(arr[::-1],float)\n",
    "    return(arr1)\n",
    "    \n",
    "    \n",
    "arr = input().strip().split(' ')\n",
    "print(arr)\n",
    "result = arrays(arr)\n",
    "print(result)\n",
    "print(type(result))"
   ]
  },
  {
   "cell_type": "code",
   "execution_count": null,
   "id": "09c6ecc3",
   "metadata": {},
   "outputs": [],
   "source": []
  }
 ],
 "metadata": {
  "kernelspec": {
   "display_name": "Python 3",
   "language": "python",
   "name": "python3"
  },
  "language_info": {
   "codemirror_mode": {
    "name": "ipython",
    "version": 3
   },
   "file_extension": ".py",
   "mimetype": "text/x-python",
   "name": "python",
   "nbconvert_exporter": "python",
   "pygments_lexer": "ipython3",
   "version": "3.8.8"
  }
 },
 "nbformat": 4,
 "nbformat_minor": 5
}
