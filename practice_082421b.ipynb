{
 "cells": [
  {
   "cell_type": "code",
   "execution_count": null,
   "id": "c58a690f",
   "metadata": {},
   "outputs": [],
   "source": []
  },
  {
   "cell_type": "code",
   "execution_count": 21,
   "id": "45723e42",
   "metadata": {},
   "outputs": [
    {
     "name": "stdout",
     "output_type": "stream",
     "text": [
      "[0. 0. 0. 0. 0. 0. 0. 0. 0. 0.]\n",
      "[[1. 1. 1.]\n",
      " [1. 1. 1.]]\n",
      "[['a' 'a' 'a']\n",
      " ['a' 'a' 'a']]\n",
      "[0 2 4 6 8]\n",
      "[0.   0.25 0.5  0.75 1.  ]\n",
      "[[0.5488135  0.71518937 0.60276338]\n",
      " [0.54488318 0.4236548  0.64589411]\n",
      " [0.43758721 0.891773   0.96366276]]\n",
      "[[ 1.26611853 -0.50587654  2.54520078]\n",
      " [ 1.08081191  0.48431215  0.57914048]\n",
      " [-0.18158257  1.41020463 -0.37447169]]\n",
      "[[0 1 9]\n",
      " [9 0 4]\n",
      " [7 3 2]]\n",
      "[[1. 0. 0.]\n",
      " [0. 1. 0.]\n",
      " [0. 0. 1.]]\n",
      "[1. 1. 1.]\n"
     ]
    }
   ],
   "source": [
    "import numpy as np\n",
    "np.array([1,2,3,4,5], dtype='int')\n",
    "#unlike python list, np array is 1 data type only. and can be multidimensional\n",
    "\n",
    "#creating arrays\n",
    "np.random.seed(0)\n",
    "x = np.zeros(10)\n",
    "print(x)\n",
    "x = np.ones((2,3),dtype='float')\n",
    "print(x)\n",
    "x = np.full((2,3),'a')\n",
    "print(x)\n",
    "\n",
    "x = np.arange(0,10,2)\n",
    "print(x)\n",
    "\n",
    "x= np.linspace(0, 1, 5)\n",
    "print(x)\n",
    "\n",
    "x= np.random.random((3, 3))\n",
    "print(x)\n",
    "\n",
    "x= np.random.normal(0, 1, (3, 3))\n",
    "print(x)\n",
    "\n",
    "x= np.random.randint(0, 10, (3, 3))\n",
    "print(x)\n",
    "\n",
    "x= np.eye(3)\n",
    "print(x)\n",
    "\n",
    "x= np.empty(3)\n",
    "print(x)\n"
   ]
  },
  {
   "cell_type": "code",
   "execution_count": 24,
   "id": "5a24a871",
   "metadata": {},
   "outputs": [
    {
     "name": "stdout",
     "output_type": "stream",
     "text": [
      "x3 ndim:  3\n",
      "x3 shape: (3, 4, 5)\n",
      "x3 size:  60\n",
      "dtype: int64\n",
      "itemsize: 8 bytes\n",
      "nbytes: 480 bytes\n"
     ]
    }
   ],
   "source": [
    "#numpy array attributes\n",
    "x1 = np.random.randint(10, size=6)  # One-dimensional array\n",
    "x2 = np.random.randint(10, size=(3, 4))  # Two-dimensional array\n",
    "x3 = np.random.randint(10, size=(3, 4, 5))  # Three-dimensional array\n",
    "\n",
    "print(\"x3 ndim: \", x3.ndim)\n",
    "print(\"x3 shape:\", x3.shape)\n",
    "print(\"x3 size: \", x3.size)\n",
    "print(\"dtype:\", x3.dtype)\n",
    "print(\"itemsize:\", x3.itemsize, \"bytes\")\n",
    "print(\"nbytes:\", x3.nbytes, \"bytes\")"
   ]
  },
  {
   "cell_type": "code",
   "execution_count": 28,
   "id": "e3cbb878",
   "metadata": {},
   "outputs": [
    {
     "name": "stdout",
     "output_type": "stream",
     "text": [
      "[3 4 5 3 3 7]\n",
      "5\n",
      "[[9 9 9 7]\n",
      " [3 2 3 9]\n",
      " [7 7 5 1]]\n",
      "9\n"
     ]
    }
   ],
   "source": [
    "#array indexing\n",
    "print(x1)\n",
    "print(x1[2])\n",
    "print(x2)\n",
    "print(x2[1,-1])"
   ]
  },
  {
   "cell_type": "code",
   "execution_count": 43,
   "id": "36b7b553",
   "metadata": {},
   "outputs": [
    {
     "name": "stdout",
     "output_type": "stream",
     "text": [
      "[3 4 5 3 3 7]\n",
      "[3 4]\n",
      "[3 4 5]\n",
      "[5 3 3 7]\n",
      "[3 5 3]\n",
      "[7 3 3 5 4 3]\n",
      "[7 3]\n"
     ]
    }
   ],
   "source": [
    "#array slicing\n",
    "#format is x[start:stop:step]\n",
    "print(x1)\n",
    "print(x1[:2])\n",
    "print(x1[0:3])\n",
    "print(x1[2:])\n",
    "print(x1[0:5:2])\n",
    "\n",
    "#to reverse the array, step value is negative.\n",
    "#start and stop values are swapped\n",
    "\n",
    "print(x1[::-1])\n",
    "print(x1[5:1:-2])"
   ]
  },
  {
   "cell_type": "code",
   "execution_count": 48,
   "id": "8f3007d8",
   "metadata": {},
   "outputs": [
    {
     "name": "stdout",
     "output_type": "stream",
     "text": [
      "[[9 9 9 7]\n",
      " [3 2 3 9]\n",
      " [7 7 5 1]]\n",
      "[[9 9 9]\n",
      " [3 2 3]]\n",
      "[[9 9]\n",
      " [3 3]]\n",
      "[[1 5 7 7]\n",
      " [9 3 2 3]\n",
      " [7 9 9 9]]\n"
     ]
    }
   ],
   "source": [
    "#array slicing \n",
    "print(x2)\n",
    "print(x2[:2, :3])\n",
    "print(x2[:2,::2])\n",
    "print(x2[::-1,::-1])"
   ]
  },
  {
   "cell_type": "code",
   "execution_count": 49,
   "id": "f640a433",
   "metadata": {},
   "outputs": [
    {
     "name": "stdout",
     "output_type": "stream",
     "text": [
      "[9 3 7]\n",
      "[9 9 9 7]\n",
      "[9 9 9 7]\n"
     ]
    }
   ],
   "source": [
    "#accessing array rows and columns\n",
    "#these slices are only views\n",
    "\n",
    "print(x2[:, 0])  # first column of x2\n",
    "\n",
    "print(x2[0, :])  # first row of x2\n",
    "\n",
    "print(x2[0])  # equivalent to x2[0, :]\n"
   ]
  },
  {
   "cell_type": "code",
   "execution_count": 53,
   "id": "0e6eadb2",
   "metadata": {},
   "outputs": [
    {
     "name": "stdout",
     "output_type": "stream",
     "text": [
      "[[99  9]\n",
      " [ 3  2]]\n",
      "[[99  9  9  7]\n",
      " [ 3  2  3  9]\n",
      " [ 7  7  5  1]]\n",
      "[[99  9]\n",
      " [ 3  2]]\n",
      "[[5 9]\n",
      " [3 2]]\n",
      "[[99  9  9  7]\n",
      " [ 3  2  3  9]\n",
      " [ 7  7  5  1]]\n"
     ]
    }
   ],
   "source": [
    "#no copy subarray\n",
    "x2_sub = x2[:2,:2]\n",
    "print(x2_sub)\n",
    "x2_sub[0,0] = 99\n",
    "print(x2) #original array also changes\n",
    "\n",
    "#to create a copy of array slicing\n",
    "x2_sub_copy = x2[:2, :2].copy()\n",
    "print(x2_sub_copy)\n",
    "\n",
    "x2_sub_copy[0, 0] = 5\n",
    "print(x2_sub_copy)\n",
    "print(x2) #original array does not change\n"
   ]
  },
  {
   "cell_type": "code",
   "execution_count": 70,
   "id": "857ce6bd",
   "metadata": {},
   "outputs": [
    {
     "name": "stdout",
     "output_type": "stream",
     "text": [
      "[[1 2 3]\n",
      " [4 5 6]\n",
      " [7 8 9]]\n",
      "[[1]\n",
      " [2]\n",
      " [3]]\n",
      "[[1 2 3]]\n"
     ]
    }
   ],
   "source": [
    "#reshaping array\n",
    "grid = np.arange(1,10).reshape(3,3)\n",
    "print(grid)\n",
    "\n",
    "x = np.array([1,2,3])\n",
    "print(x.reshape((3,1)))\n",
    "print(x.reshape(1,3))"
   ]
  },
  {
   "cell_type": "code",
   "execution_count": null,
   "id": "1e0757e9",
   "metadata": {},
   "outputs": [],
   "source": [
    "#array concatenation and splitting\n",
    "#use np.concatenate, np.vstack, and np.hstack\n",
    "#np.split, np.hsplit, and np.vsplit"
   ]
  },
  {
   "cell_type": "code",
   "execution_count": 72,
   "id": "c553498e",
   "metadata": {},
   "outputs": [
    {
     "name": "stdout",
     "output_type": "stream",
     "text": [
      "[1 2 3] [99 99] [3 2 1]\n"
     ]
    }
   ],
   "source": [
    "x = [1, 2, 3, 99, 99, 3, 2, 1]\n",
    "x1, x2, x3 = np.split(x, [3, 5])\n",
    "print(x1, x2, x3)\n",
    "#N split-points, leads to N + 1 subarrays"
   ]
  },
  {
   "cell_type": "code",
   "execution_count": 74,
   "id": "f90d1781",
   "metadata": {},
   "outputs": [
    {
     "name": "stdout",
     "output_type": "stream",
     "text": [
      "[[1 2 3]\n",
      " [4 5 6]]\n",
      "[[7 8 9]]\n",
      "[[1 2]\n",
      " [4 5]\n",
      " [7 8]]\n",
      "[[3]\n",
      " [6]\n",
      " [9]]\n"
     ]
    }
   ],
   "source": [
    "upper, lower = np.vsplit(grid, [2])\n",
    "print(upper)\n",
    "print(lower)\n",
    "\n",
    "left, right = np.hsplit(grid, [2])\n",
    "print(left)\n",
    "print(right)"
   ]
  },
  {
   "cell_type": "code",
   "execution_count": 92,
   "id": "ffba7a18",
   "metadata": {},
   "outputs": [
    {
     "name": "stdout",
     "output_type": "stream",
     "text": [
      "[ 3  4  5  6  7  8  9 10 11]\n",
      "[-1  0  1  2  3  4  5  6  7]\n",
      "[ 2  4  6  8 10 12 14 16 18]\n",
      "[0.5 1.  1.5 2.  2.5 3.  3.5 4.  4.5]\n",
      "[-1 -2 -3 -4 -5 -6 -7 -8 -9]\n",
      "[0 1 1 2 2 3 3 4 4]\n",
      "[ 1  4  9 16 25 36 49 64 81]\n",
      "[1 0 1 0 1 0 1 0 1]\n",
      "now use operators\n",
      "[ 3  4  5  6  7  8  9 10 11]\n",
      "[-1  0  1  2  3  4  5  6  7]\n",
      "[ 2  4  6  8 10 12 14 16 18]\n",
      "[0.5 1.  1.5 2.  2.5 3.  3.5 4.  4.5]\n",
      "[0 1 1 2 2 3 3 4 4]\n",
      "[ 1  4  9 16 25 36 49 64 81]\n",
      "[1 0 1 0 1 0 1 0 1]\n",
      "[-4 -3 -2 -1  0  1  2  3  4]\n",
      "[4 3 2 1 0 1 2 3 4]\n"
     ]
    }
   ],
   "source": [
    "#Universal Functions Ufuncs\n",
    "x = np.arange(1,10)\n",
    "x\n",
    "print(np.add(x,2))\n",
    "print(np.subtract(x,2))\n",
    "print(np.multiply(x,2))\n",
    "print(np.divide(x,2))\n",
    "print(np.negative(x))\n",
    "print(np.floor_divide(x,2))\n",
    "print(np.power(x,2))\n",
    "print(np.mod(x,2))\n",
    "\n",
    "print(\"now use operators\")\n",
    "print(x+2)\n",
    "print(x-2)\n",
    "print(x*2)\n",
    "print(x/2)\n",
    "print(x//2)\n",
    "print(x**2)\n",
    "print(x%2)\n",
    "\n",
    "print(x-5)\n",
    "print(np.abs(x-5))"
   ]
  },
  {
   "cell_type": "code",
   "execution_count": 25,
   "id": "a2fc4297",
   "metadata": {},
   "outputs": [
    {
     "name": "stdout",
     "output_type": "stream",
     "text": [
      "[[4 5 6]\n",
      " [7 8 9]]\n",
      "[[ 5  7  9]\n",
      " [ 8 10 12]]\n",
      "[[2. 3. 4.]\n",
      " [2. 3. 4.]\n",
      " [2. 3. 4.]]\n",
      "[[4 5]\n",
      " [6 7]\n",
      " [8 9]]\n",
      "both arrays dimension different addition:\n",
      "a is:  [1 2 3]\n",
      "c is:  [[4]\n",
      " [5]\n",
      " [6]]\n",
      "[[5 6 7]\n",
      " [6 7 8]\n",
      " [7 8 9]]\n"
     ]
    }
   ],
   "source": [
    "#Broadcasting operations\n",
    "import numpy as np\n",
    "a = np.array([1,2,3])\n",
    "b = np.array([4,5,6,7,8,9]).reshape((2,3))\n",
    "c = np.array([4,5,6]).reshape((3,1))\n",
    "print(b)\n",
    "print(a+b)\n",
    "M =np.ones((3,3))\n",
    "print(M+a)\n",
    "b = b.reshape(3,2)\n",
    "print(b)\n",
    "print('both arrays dimension different addition:')\n",
    "print('a is: ',a)\n",
    "print('c is: ',c)\n",
    "print(a+c)"
   ]
  },
  {
   "cell_type": "code",
   "execution_count": 31,
   "id": "70bad8a4",
   "metadata": {},
   "outputs": [
    {
     "name": "stdout",
     "output_type": "stream",
     "text": [
      "[[1. 1. 1.]\n",
      " [1. 1. 1.]]\n",
      "[0 1 2]\n",
      "[[1. 2. 3.]\n",
      " [1. 2. 3.]]\n"
     ]
    }
   ],
   "source": [
    "M = np.ones((2,3))\n",
    "print(M)\n",
    "a = np.arange(3)\n",
    "print(a)\n",
    "print(M+a)"
   ]
  },
  {
   "cell_type": "code",
   "execution_count": 106,
   "id": "11123dac",
   "metadata": {},
   "outputs": [
    {
     "name": "stdout",
     "output_type": "stream",
     "text": [
      "[0.         1.57079633 3.14159265]\n",
      "sin =  [0.0000000e+00 1.0000000e+00 1.2246468e-16]\n",
      "cos =  [ 1.000000e+00  6.123234e-17 -1.000000e+00]\n",
      "tan =  [ 0.00000000e+00  1.63312394e+16 -1.22464680e-16]\n",
      "[  0.  90. 180.]\n",
      "[0.         1.57079633 3.14159265]\n",
      "<class 'numpy.ndarray'>\n",
      "x         =  [-1  0  1]\n",
      "arcsin(x) =  [-1.57079633  0.          1.57079633]\n",
      "arccos(x) =  [3.14159265 1.57079633 0.        ]\n",
      "arctan(x) =  [-0.78539816  0.          0.78539816]\n"
     ]
    }
   ],
   "source": [
    "#trigonometric functions\n",
    "#all angles are in radians in trignometric functions\n",
    "#change angles to degrees and vice-versa using degrees and radians\n",
    "theta = np.linspace(0,np.pi,3)\n",
    "print(theta)\n",
    "\n",
    "print('sin =  {}'.format(np.sin(theta)))\n",
    "print('cos =  {}'.format(np.cos(theta)))\n",
    "print('tan =  {}'.format(np.tan(theta)))\n",
    "print(np.degrees(theta))\n",
    "y= np.degrees(theta)\n",
    "x= np.radians(y)\n",
    "print(x)\n",
    "x= np.array([-1,0,1])\n",
    "print(type(x))\n",
    "print(\"x         = \", x)\n",
    "print(\"arcsin(x) = \", np.arcsin(x))\n",
    "print(\"arccos(x) = \", np.arccos(x))\n",
    "print(\"arctan(x) = \", np.arctan(x))"
   ]
  },
  {
   "cell_type": "code",
   "execution_count": 110,
   "id": "c9f82abb",
   "metadata": {},
   "outputs": [
    {
     "name": "stdout",
     "output_type": "stream",
     "text": [
      "x     = [1, 2, 3]\n",
      "e^x   = [ 2.71828183  7.3890561  20.08553692]\n",
      "2^x   = [2. 4. 8.]\n",
      "3^x   = [ 3  9 27]\n",
      "x        = [1, 2, 4, 10]\n",
      "ln(x)    = [0.         0.69314718 1.38629436 2.30258509]\n",
      "log2(x)  = [0.         1.         2.         3.32192809]\n",
      "log10(x) = [0.         0.30103    0.60205999 1.        ]\n"
     ]
    }
   ],
   "source": [
    "#exponentials and logarithms\n",
    "x = [1, 2, 3]\n",
    "print(\"x     =\", x)\n",
    "print(\"e^x   =\", np.exp(x))\n",
    "print(\"2^x   =\", np.exp2(x))\n",
    "print(\"3^x   =\", np.power(3, x))\n",
    "\n",
    "\n",
    "x = [1, 2, 4, 10]\n",
    "print(\"x        =\", x)\n",
    "print(\"ln(x)    =\", np.log(x))\n",
    "print(\"log2(x)  =\", np.log2(x))\n",
    "print(\"log10(x) =\", np.log10(x))\n",
    "\n"
   ]
  },
  {
   "cell_type": "code",
   "execution_count": 136,
   "id": "06424f90",
   "metadata": {},
   "outputs": [
    {
     "name": "stdout",
     "output_type": "stream",
     "text": [
      "[1 2 3 4 5 6]\n",
      "sum:  21\n",
      "max:  6\n",
      "min:  1\n",
      "[[5 0 3]\n",
      " [3 7 9]\n",
      " [3 5 2]]\n",
      "<class 'numpy.ndarray'>\n",
      "sum:  37\n",
      "max:  9\n",
      "min:  0\n",
      "column min:  [3 0 2]\n",
      "row max:  [5 9 5]\n",
      "sum:  37\n",
      "product:  720\n",
      "mean:  3.5\n",
      "median:  3.5\n",
      "rank percentile: 2.25\n",
      "std:  1.707825127659933\n",
      "variance:  2.9166666666666665\n",
      "index of min value:  0\n",
      "index of max value:  5\n"
     ]
    }
   ],
   "source": [
    "#Aggregates\n",
    "np.random.seed(0)\n",
    "x = np.array([1,2,3,4,5,6])\n",
    "print(x)\n",
    "print('sum: ',np.sum(x))\n",
    "print('max: ',np.max(x))\n",
    "print('min: ',np.min(x))\n",
    "\n",
    "y = np.random.randint(0,10,(3,3))\n",
    "print(y)\n",
    "print(type(y))\n",
    "print('sum: ',np.sum(y))\n",
    "print('max: ',np.max(y))\n",
    "print('min: ',np.min(y))\n",
    "print('column min: ', np.min(y,axis=0))\n",
    "print('row max: ', np.max(y,axis=1))\n",
    "\n",
    "#can also call as \n",
    "print('sum: ', y.sum())\n",
    "\n",
    "print('product: ',np.prod(x))\n",
    "print('mean: ',np.mean(x))\n",
    "print('median: ',np.median(x))\n",
    "print('25th percentile:',np.percentile(x,25))\n",
    "print('std: ',np.std(x))\n",
    "print('variance: ',np.var(x))\n",
    "print('index of min value: ',np.argmin(x))\n",
    "print('index of max value: ',np.argmax(x))"
   ]
  },
  {
   "cell_type": "code",
   "execution_count": 36,
   "id": "100899eb",
   "metadata": {},
   "outputs": [
    {
     "name": "stdout",
     "output_type": "stream",
     "text": [
      "[0.52101579 0.62614181 0.59620338]\n",
      "5.551115123125783e-17\n"
     ]
    }
   ],
   "source": [
    "np.random.seed(0)\n",
    "x= np.random.random((10,3))\n",
    "x_mean = x.mean(0) #take mean across the first dimension\n",
    "print(x_mean)\n",
    "x_centered = x- x_mean\n",
    "#centered matrix should have near zero mean\n",
    "print(x_centered.mean())\n"
   ]
  }
 ],
 "metadata": {
  "kernelspec": {
   "display_name": "Python 3",
   "language": "python",
   "name": "python3"
  },
  "language_info": {
   "codemirror_mode": {
    "name": "ipython",
    "version": 3
   },
   "file_extension": ".py",
   "mimetype": "text/x-python",
   "name": "python",
   "nbconvert_exporter": "python",
   "pygments_lexer": "ipython3",
   "version": "3.8.8"
  }
 },
 "nbformat": 4,
 "nbformat_minor": 5
}
