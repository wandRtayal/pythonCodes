{
 "cells": [
  {
   "cell_type": "code",
   "execution_count": 5,
   "id": "04150a04",
   "metadata": {},
   "outputs": [],
   "source": [
    "#sequence data type\n"
   ]
  },
  {
   "cell_type": "code",
   "execution_count": 126,
   "id": "e9bf6b0a",
   "metadata": {},
   "outputs": [
    {
     "name": "stdout",
     "output_type": "stream",
     "text": [
      "<class 'list'>\n",
      "1\n",
      "2\n",
      "42\n",
      "4\n",
      "5.0\n",
      "a\n",
      "[1, 2, 42, 4, 5.0, 'a']\n"
     ]
    }
   ],
   "source": [
    "#LIST\n",
    "x= [1,2,3,4,5.0,'a'] #list is created with [] and can have any data type\n",
    "x[2] = 42\n",
    "print(type(x))\n",
    "for i in x:\n",
    "    print(i)\n",
    "print(x)\n",
    "\n"
   ]
  },
  {
   "cell_type": "code",
   "execution_count": 127,
   "id": "f1159670",
   "metadata": {},
   "outputs": [
    {
     "name": "stdout",
     "output_type": "stream",
     "text": [
      "<class 'tuple'>\n",
      "(1, 2, 3, 4, 5, 'a')\n",
      "1\n",
      "2\n",
      "3\n",
      "4\n",
      "5\n",
      "a\n",
      "tuple is non mutable so cannot change, therefore error\n"
     ]
    },
    {
     "ename": "TypeError",
     "evalue": "'tuple' object does not support item assignment",
     "output_type": "error",
     "traceback": [
      "\u001b[0;31m---------------------------------------------------------------------------\u001b[0m",
      "\u001b[0;31mTypeError\u001b[0m                                 Traceback (most recent call last)",
      "\u001b[0;32m<ipython-input-127-724966de794a>\u001b[0m in \u001b[0;36m<module>\u001b[0;34m\u001b[0m\n\u001b[1;32m      6\u001b[0m     \u001b[0mprint\u001b[0m\u001b[0;34m(\u001b[0m\u001b[0mi\u001b[0m\u001b[0;34m)\u001b[0m\u001b[0;34m\u001b[0m\u001b[0;34m\u001b[0m\u001b[0m\n\u001b[1;32m      7\u001b[0m \u001b[0mprint\u001b[0m\u001b[0;34m(\u001b[0m\u001b[0;34m\"tuple is non mutable so cannot change, therefore error\"\u001b[0m\u001b[0;34m)\u001b[0m\u001b[0;34m\u001b[0m\u001b[0;34m\u001b[0m\u001b[0m\n\u001b[0;32m----> 8\u001b[0;31m \u001b[0mx\u001b[0m\u001b[0;34m[\u001b[0m\u001b[0;36m2\u001b[0m\u001b[0;34m]\u001b[0m \u001b[0;34m=\u001b[0m \u001b[0;36m42\u001b[0m\u001b[0;34m\u001b[0m\u001b[0;34m\u001b[0m\u001b[0m\n\u001b[0m",
      "\u001b[0;31mTypeError\u001b[0m: 'tuple' object does not support item assignment"
     ]
    }
   ],
   "source": [
    "#Tuple - indicated by paranthesis\n",
    "x= (1,2,3,4,5,'a') #can have any data type\n",
    "print(type(x))\n",
    "print(x)\n",
    "for i in x:\n",
    "    print(i)\n",
    "print(\"tuple is non mutable so cannot change, therefore error\")\n",
    "x[2] = 42 "
   ]
  },
  {
   "cell_type": "code",
   "execution_count": 25,
   "id": "c5877dc9",
   "metadata": {},
   "outputs": [
    {
     "name": "stdout",
     "output_type": "stream",
     "text": [
      "<class 'range'>\n",
      "0\n",
      "1\n",
      "2\n",
      "3\n",
      "4\n",
      "next range\n",
      "1\n",
      "2\n",
      "3\n",
      "4\n",
      "next range\n",
      "1\n",
      "11\n",
      "21\n",
      "31\n",
      "41\n"
     ]
    }
   ],
   "source": [
    "x = range(5)\n",
    "print(type(x))\n",
    "for i in x:\n",
    "    print(i)\n",
    "x = range(1,5) #with start and end parameters\n",
    "print('next range')\n",
    "for i in x:\n",
    "    print(i)\n",
    "\n",
    "x = range(1,50,10) #with start, end and step parameters\n",
    "print('next range')\n",
    "for i in x:\n",
    "    print(i)"
   ]
  },
  {
   "cell_type": "code",
   "execution_count": 26,
   "id": "543d2e16",
   "metadata": {},
   "outputs": [
    {
     "name": "stdout",
     "output_type": "stream",
     "text": [
      "range is not mutable like tuple\n"
     ]
    },
    {
     "ename": "TypeError",
     "evalue": "'range' object does not support item assignment",
     "output_type": "error",
     "traceback": [
      "\u001b[0;31m---------------------------------------------------------------------------\u001b[0m",
      "\u001b[0;31mTypeError\u001b[0m                                 Traceback (most recent call last)",
      "\u001b[0;32m<ipython-input-26-f431a47bad6a>\u001b[0m in \u001b[0;36m<module>\u001b[0;34m\u001b[0m\n\u001b[1;32m      1\u001b[0m \u001b[0mprint\u001b[0m\u001b[0;34m(\u001b[0m\u001b[0;34m'range is not mutable like tuple'\u001b[0m\u001b[0;34m)\u001b[0m\u001b[0;34m\u001b[0m\u001b[0;34m\u001b[0m\u001b[0m\n\u001b[1;32m      2\u001b[0m \u001b[0mx\u001b[0m \u001b[0;34m=\u001b[0m \u001b[0mrange\u001b[0m\u001b[0;34m(\u001b[0m\u001b[0;36m5\u001b[0m\u001b[0;34m)\u001b[0m\u001b[0;34m\u001b[0m\u001b[0;34m\u001b[0m\u001b[0m\n\u001b[0;32m----> 3\u001b[0;31m \u001b[0mx\u001b[0m\u001b[0;34m[\u001b[0m\u001b[0;36m2\u001b[0m\u001b[0;34m]\u001b[0m \u001b[0;34m=\u001b[0m \u001b[0;36m42\u001b[0m\u001b[0;34m\u001b[0m\u001b[0;34m\u001b[0m\u001b[0m\n\u001b[0m\u001b[1;32m      4\u001b[0m \u001b[0;32mfor\u001b[0m \u001b[0mi\u001b[0m \u001b[0;32min\u001b[0m \u001b[0mx\u001b[0m\u001b[0;34m:\u001b[0m\u001b[0;34m\u001b[0m\u001b[0;34m\u001b[0m\u001b[0m\n\u001b[1;32m      5\u001b[0m     \u001b[0mprint\u001b[0m\u001b[0;34m(\u001b[0m\u001b[0mi\u001b[0m\u001b[0;34m)\u001b[0m\u001b[0;34m\u001b[0m\u001b[0;34m\u001b[0m\u001b[0m\n",
      "\u001b[0;31mTypeError\u001b[0m: 'range' object does not support item assignment"
     ]
    }
   ],
   "source": [
    "print('range is not mutable like tuple')\n",
    "x = range(5)\n",
    "x[2] = 42\n",
    "for i in x:\n",
    "    print(i)"
   ]
  },
  {
   "cell_type": "code",
   "execution_count": 29,
   "id": "fad90eca",
   "metadata": {},
   "outputs": [
    {
     "name": "stdout",
     "output_type": "stream",
     "text": [
      "<class 'list'>\n",
      "0\n",
      "1\n",
      "42\n",
      "3\n",
      "4\n"
     ]
    }
   ],
   "source": [
    "#when you need to mutate later, make a list using range\n",
    "x = list(range(5))\n",
    "x[2] = 42\n",
    "print(type(x))\n",
    "for i in x:\n",
    "    print(i)"
   ]
  },
  {
   "cell_type": "code",
   "execution_count": 39,
   "id": "eb84061a",
   "metadata": {},
   "outputs": [
    {
     "name": "stdout",
     "output_type": "stream",
     "text": [
      "ONLY PRINT KEYS\n",
      "i is 1\n",
      "i is 2\n",
      "i is three\n",
      "i is 4\n",
      "i is 5\n",
      "PRINT BOTH - KEY and VALUE\n",
      "key is 1, value is one\n",
      "key is 2, value is two\n",
      "key is three, value is 3\n",
      "key is 4, value is four\n",
      "key is 5, value is five\n",
      "LETS MUTATE\n",
      "key is 1, value is one\n",
      "key is 2, value is two\n",
      "key is three, value is 42\n",
      "key is 4, value is four\n",
      "key is 5, value is five\n",
      "key is 3, value is new item added\n"
     ]
    }
   ],
   "source": [
    "#DICTIONARY - searchable sequence of key-value pairs\n",
    "x = {1:'one', 2:'two','three':3 , 4: 'four', 5: 'five'} #Keys and Values can be of any types\n",
    "print(\"ONLY PRINT KEYS\")\n",
    "for i in x:\n",
    "    print('i is {}'.format(i))\n",
    "print(\"PRINT BOTH - KEY and VALUE\")\n",
    "for k,v in x.items():\n",
    "    print('key is {}, value is {}'.format(k,v))\n",
    "print(\"lets mutate\".upper())\n",
    "#mutating the item with key as three\n",
    "x['three'] = 42\n",
    "x[3] = 'new item added' #adds new item because the dictionary doesnt have an item with key as 3\n",
    "for k,v in x.items():\n",
    "    print('key is {}, value is {}'.format(k,v))\n"
   ]
  },
  {
   "cell_type": "code",
   "execution_count": 49,
   "id": "ff6c05c2",
   "metadata": {},
   "outputs": [
    {
     "name": "stdout",
     "output_type": "stream",
     "text": [
      "<class 'dict'>\n",
      "Print only keys\n",
      "i is one\n",
      "i is two\n",
      "i is three\n",
      "i is four\n",
      "i is five\n",
      "Print only values\n",
      "i is 1\n",
      "i is 2\n",
      "i is 3\n",
      "i is 4\n",
      "i is 5\n"
     ]
    }
   ],
   "source": [
    "\n",
    "x = {'one':1, 'two':2,'three':3 , 'four':4, 'five': 5} #Keys and Values can be of any types\n",
    "print(type(x))\n",
    "print(\"Print only keys\")\n",
    "for i in x.keys():\n",
    "    print('i is {}'.format(i))\n",
    "print(\"Print only values\")\n",
    "for i in x.values():\n",
    "    print('i is {}'.format(i))"
   ]
  },
  {
   "cell_type": "code",
   "execution_count": 64,
   "id": "fd590984",
   "metadata": {},
   "outputs": [
    {
     "name": "stdout",
     "output_type": "stream",
     "text": [
      "x is (1, 2, 3, 4, 5)\n",
      "<class 'tuple'>\n",
      "x is (1, 'two', 3.0, [4, 'four'], 5, 'a')\n",
      "<class 'tuple'>\n",
      "type of 1st element <class 'int'>\n",
      "type of 2nd element <class 'str'>\n",
      "type of 3rd element <class 'float'>\n",
      "type of 4th element <class 'list'>\n",
      "type of 1st in 4th element <class 'int'>\n",
      "type of 2nd in 4th element <class 'str'>\n",
      "type of 5th element <class 'int'>\n",
      "type of 6th element <class 'str'>\n"
     ]
    }
   ],
   "source": [
    "#TYPE of variables \n",
    "x = (1,2,3,4,5)\n",
    "print('x is {}'.format(x))\n",
    "print(type(x))\n",
    "\n",
    "x = (1,'two',3.0,[4,'four'],5,'a')\n",
    "print('x is {}'.format(x))\n",
    "print(type(x))\n",
    "print('type of 1st element', type(x[0]))\n",
    "print('type of 2nd element',type(x[1]))\n",
    "print('type of 3rd element',type(x[2]))\n",
    "print('type of 4th element',type(x[3]))\n",
    "print('type of 1st in 4th element',type(x[3][0]))\n",
    "print('type of 2nd in 4th element',type(x[3][1]))\n",
    "print('type of 5th element',type(x[4]))\n",
    "print('type of 6th element',type(x[5]))\n",
    "\n"
   ]
  },
  {
   "cell_type": "code",
   "execution_count": null,
   "id": "6da36a1c",
   "metadata": {},
   "outputs": [],
   "source": [
    "#ID of variables\n"
   ]
  },
  {
   "cell_type": "code",
   "execution_count": 113,
   "id": "9dbddc29",
   "metadata": {},
   "outputs": [
    {
     "name": "stdout",
     "output_type": "stream",
     "text": [
      "140704937492640 id of x\n",
      "140704963343168 id of y\n",
      "Id of x and y are different, and they CHANGE at every execution\n",
      "not same tuples\n",
      "4317133152 id of 1st element in x\n",
      "4317133152 id of 1st element in y\n",
      "Id are same because the element is literal number 1\n",
      "they are same object 1, 1\n",
      "140704959101632 id of y changes on changing to list\n",
      "4317133152 id of 1st element of y\n",
      "Id of 1st element are still  same after changing y to list because the element is literal number 1\n",
      "they are same object 1, 1\n"
     ]
    }
   ],
   "source": [
    "x = (1,'two',3.0,[4,'four'],5,'a')\n",
    "y = (1,'two',3.0,[4,'four'],5,'a')\n",
    "\n",
    "print(id(x),'id of x')\n",
    "print(id(y),'id of y')\n",
    "print(\"Id of x and y are different, and they CHANGE at every execution\")\n",
    "\n",
    "if x is y:  #using IS OPERATOR\n",
    "    print(\"they are same tuples\")\n",
    "else:\n",
    "    print(\"not same tuples\")\n",
    "\n",
    "print(id(x[0]),'id of 1st element in x')\n",
    "print(id(y[0]),'id of 1st element in y')\n",
    "print(\"Id are same because the element is literal number 1\")\n",
    "if(x[0] is y[0]):\n",
    "    print(\"they are same object {}, {}\".format(x[0],y[0]))\n",
    "else:\n",
    "    print(\"not same\")\n",
    "    \n",
    "\n",
    "y = [1,'two',3.0,[4,'four'],5,'a'] #change y to list\n",
    "print(id(y),'id of y changes on changing to list')\n",
    "print(id(y[0]), 'id of 1st element of y')\n",
    "print(\"Id of 1st element are still  same after changing y to list because the element is literal number 1\")\n",
    "\n",
    "if(x[0] is y[0]):\n",
    "    print(\"they are same object {}, {}\".format(x[0],y[0]))\n",
    "else:\n",
    "    print(\"not same\")\n"
   ]
  },
  {
   "cell_type": "code",
   "execution_count": 117,
   "id": "5093b8cb",
   "metadata": {},
   "outputs": [
    {
     "name": "stdout",
     "output_type": "stream",
     "text": [
      "#if type(x) == 'tuple' will not work\n",
      "(1, 'two', 3.0, [4, 'four'], 5, 'a') is tuple\n"
     ]
    }
   ],
   "source": [
    "x = (1,'two',3.0,[4,'four'],5,'a')\n",
    "y = [1,'two',3.0,[4,'four'],5,'a'] #change y to list\n",
    "\n",
    "#if type(x) == 'tuple' will not work\n",
    "print(\"#if type(x) == 'tuple' will not work\")\n",
    "if isinstance(x,tuple):\n",
    "    print(f'{x} is tuple')\n",
    "elif isinstance(x,list):\n",
    "    print(f'{x} is a list')\n",
    "else:\n",
    "    print(\"nope\")"
   ]
  },
  {
   "cell_type": "code",
   "execution_count": 119,
   "id": "4e494fbb",
   "metadata": {},
   "outputs": [
    {
     "name": "stdout",
     "output_type": "stream",
     "text": [
      "One\n"
     ]
    }
   ],
   "source": [
    "#IF\n",
    "#the conditional operators. - and/ or/ not, is /is not, in/ not in\n",
    "#ternary opearator\n",
    "\n",
    "flag = 1\n",
    "x = 'One' if flag else 'Zero' #mandatory else clause in this \n",
    "x = 'One' if flag else None\n",
    "print(x)"
   ]
  },
  {
   "cell_type": "code",
   "execution_count": 128,
   "id": "2df1f272",
   "metadata": {},
   "outputs": [
    {
     "name": "stdout",
     "output_type": "stream",
     "text": [
      "whats the secret word?harry\n",
      "whats the secret word?harrypotte\n",
      "whats the secret word?harrypotter\n"
     ]
    }
   ],
   "source": [
    "secret = 'harrypotter'\n",
    "pw=''\n",
    "while pw!=secret:\n",
    "    pw = input(\"whats the secret word?\")"
   ]
  },
  {
   "cell_type": "code",
   "execution_count": 132,
   "id": "54d31088",
   "metadata": {},
   "outputs": [
    {
     "name": "stdout",
     "output_type": "stream",
     "text": [
      "bear\n",
      "cat\n",
      "bunny\n",
      "dog\n",
      "bear\n",
      "cat\n",
      "bunny\n",
      "dog\n"
     ]
    }
   ],
   "source": [
    "animals = ('bear','cat','bunny','dog')\n",
    "for pet in animals:\n",
    "    print(pet)\n",
    "for pet in range(4):\n",
    "    print(animals[pet])"
   ]
  },
  {
   "cell_type": "code",
   "execution_count": 137,
   "id": "2fedbfb2",
   "metadata": {},
   "outputs": [
    {
     "name": "stdout",
     "output_type": "stream",
     "text": [
      "1: whats the secret word?y\n",
      "2: whats the secret word?y\n",
      "4: whats the secret word?y\n",
      "5: whats the secret word?y\n",
      "calling the fbi..\n"
     ]
    }
   ],
   "source": [
    "#continue, break and else in loops\n",
    "\n",
    "secret = 'harrypotter'\n",
    "pw=''\n",
    "auth = False\n",
    "count = 0\n",
    "max_attempts = 5\n",
    "\n",
    "while pw!=secret:\n",
    "    count += 1\n",
    "    if count >max_attempts: break #break will also break through the else part\n",
    "    if count ==3: continue\n",
    "    pw = input(f\"{count}: whats the secret word?\")\n",
    "#else executes when the while loop exits without break, but normally\n",
    "else:\n",
    "    auth = True\n",
    "\n",
    "\n",
    "print(\"Authorised\" if auth else \"calling the fbi..\")\n",
    "    "
   ]
  },
  {
   "cell_type": "code",
   "execution_count": 138,
   "id": "a0dbb933",
   "metadata": {},
   "outputs": [
    {
     "name": "stdout",
     "output_type": "stream",
     "text": [
      "bear\n",
      "cat\n",
      "bunny\n",
      "velociraptor\n",
      "all are pet animals, no snake\n"
     ]
    }
   ],
   "source": [
    "animals = ('bear','cat','bunny','dog', 'velociraptor')\n",
    "for pet in animals:\n",
    "    if pet == 'dog': continue\n",
    "    if pet == 'snake': break\n",
    "    print(pet)\n",
    "else:\n",
    "    print(\"all are pet animals, no snake\")\n"
   ]
  },
  {
   "cell_type": "code",
   "execution_count": 1,
   "id": "efce8a4f",
   "metadata": {},
   "outputs": [],
   "source": [
    "import numpy as np\n",
    "np?\n",
    "#use np.info(obj) when np.obj? gives result as Help on Ufunc object\n",
    "#Ufuncs are implemented in C, not Python, for speed"
   ]
  },
  {
   "cell_type": "code",
   "execution_count": 6,
   "id": "32d2511e",
   "metadata": {},
   "outputs": [
    {
     "name": "stdout",
     "output_type": "stream",
     "text": [
      "The Zen of Python, by Tim Peters\n",
      "\n",
      "Beautiful is better than ugly.\n",
      "Explicit is better than implicit.\n",
      "Simple is better than complex.\n",
      "Complex is better than complicated.\n",
      "Flat is better than nested.\n",
      "Sparse is better than dense.\n",
      "Readability counts.\n",
      "Special cases aren't special enough to break the rules.\n",
      "Although practicality beats purity.\n",
      "Errors should never pass silently.\n",
      "Unless explicitly silenced.\n",
      "In the face of ambiguity, refuse the temptation to guess.\n",
      "There should be one-- and preferably only one --obvious way to do it.\n",
      "Although that way may not be obvious at first unless you're Dutch.\n",
      "Now is better than never.\n",
      "Although never is often better than *right* now.\n",
      "If the implementation is hard to explain, it's a bad idea.\n",
      "If the implementation is easy to explain, it may be a good idea.\n",
      "Namespaces are one honking great idea -- let's do more of those!\n"
     ]
    }
   ],
   "source": [
    "import this"
   ]
  }
 ],
 "metadata": {
  "kernelspec": {
   "display_name": "Python 3",
   "language": "python",
   "name": "python3"
  },
  "language_info": {
   "codemirror_mode": {
    "name": "ipython",
    "version": 3
   },
   "file_extension": ".py",
   "mimetype": "text/x-python",
   "name": "python",
   "nbconvert_exporter": "python",
   "pygments_lexer": "ipython3",
   "version": "3.8.8"
  }
 },
 "nbformat": 4,
 "nbformat_minor": 5
}
