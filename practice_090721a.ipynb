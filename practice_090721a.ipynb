{
 "cells": [
  {
   "cell_type": "code",
   "execution_count": 1,
   "id": "06d46ce8",
   "metadata": {},
   "outputs": [],
   "source": [
    "import pandas as pd\n",
    "import numpy as np"
   ]
  },
  {
   "cell_type": "code",
   "execution_count": 8,
   "id": "44b64e8c",
   "metadata": {},
   "outputs": [
    {
     "name": "stdout",
     "output_type": "stream",
     "text": [
      "0    0.25\n",
      "1       a\n",
      "2       1\n",
      "3       b\n",
      "dtype: object\n",
      "<class 'pandas.core.series.Series'>\n",
      "<class 'str'>\n",
      "[0.25 'a' 1 'b']\n",
      "RangeIndex(start=0, stop=4, step=1)\n"
     ]
    }
   ],
   "source": [
    "data = pd.Series([0.25,'a',1,'b'])\n",
    "print(data)\n",
    "print(type(data))\n",
    "print(type(data[1]))\n",
    "\n",
    "print(data.values)\n",
    "print(data.index)\n"
   ]
  },
  {
   "cell_type": "code",
   "execution_count": 20,
   "id": "228ba388",
   "metadata": {},
   "outputs": [
    {
     "name": "stdout",
     "output_type": "stream",
     "text": [
      "100    5\n",
      "200    5\n",
      "300    5\n",
      "dtype: int64\n"
     ]
    }
   ],
   "source": [
    "data1 = pd.Series(5, index=[100, 200, 300])\n",
    "print(data1)"
   ]
  },
  {
   "cell_type": "code",
   "execution_count": 16,
   "id": "f2fa97df",
   "metadata": {},
   "outputs": [
    {
     "name": "stdout",
     "output_type": "stream",
     "text": [
      "a    0.25\n",
      "b    0.50\n",
      "c    0.75\n",
      "d    1.00\n",
      "dtype: float64\n",
      "b    0.50\n",
      "c    0.75\n",
      "dtype: float64\n",
      "access by index:  a    0.25\n",
      "b    0.50\n",
      "c    0.75\n",
      "dtype: float64\n"
     ]
    }
   ],
   "source": [
    "#Series as generalized NumPy array\n",
    "#the Pandas Series has an explicitly defined index associated with the values.\n",
    "#the index need not be an integer\n",
    "data = pd.Series([0.25,0.5,0.75,1], index = ['a','b','c','d'])\n",
    "print(data)\n",
    "print(data[1:3])\n",
    "print(\"access by index: \",data['a':'c'])"
   ]
  },
  {
   "cell_type": "code",
   "execution_count": 19,
   "id": "61d034ad",
   "metadata": {},
   "outputs": [
    {
     "name": "stdout",
     "output_type": "stream",
     "text": [
      "California    38332521\n",
      "Texas         26448193\n",
      "New York      19651127\n",
      "Florida       19552860\n",
      "Illinois      12882135\n",
      "dtype: int64\n",
      "Index(['California', 'Texas', 'New York', 'Florida', 'Illinois'], dtype='object')\n",
      "[38332521 26448193 19651127 19552860 12882135]\n"
     ]
    }
   ],
   "source": [
    "#Series as specialized dictionary\n",
    "population_dict = {'California': 38332521,\n",
    "                   'Texas': 26448193,\n",
    "                   'New York': 19651127,\n",
    "                   'Florida': 19552860,\n",
    "                   'Illinois': 12882135}\n",
    "population = pd.Series(population_dict)\n",
    "print(population)\n",
    "print(population.index)\n",
    "print(population.values)\n",
    "\n"
   ]
  },
  {
   "cell_type": "code",
   "execution_count": 24,
   "id": "6819eb82",
   "metadata": {},
   "outputs": [
    {
     "name": "stdout",
     "output_type": "stream",
     "text": [
      "whole dictionary is:  {2: 'a', 1: 'b', 3: 'c', 4: 'e', 5: 'd'}\n",
      "subset series is :  3    c\n",
      "2    a\n",
      "4    e\n",
      "dtype: object\n"
     ]
    }
   ],
   "source": [
    "dict1 = {2:'a', 1:'b', 3:'c', 4:'e', 5:'d'}\n",
    "print(\"whole dictionary is: \",dict1)\n",
    "\n",
    "\n",
    "short_series= pd.Series(dict1, index=[3, 2, 4])\n",
    "print(\"subset series is : \",short_series)\n",
    "\n"
   ]
  },
  {
   "cell_type": "code",
   "execution_count": 33,
   "id": "66404fd3",
   "metadata": {},
   "outputs": [
    {
     "name": "stdout",
     "output_type": "stream",
     "text": [
      "California    423967\n",
      "New Jersey    141297\n",
      "Florida       170312\n",
      "Texas         695662\n",
      "Illinois      149995\n",
      "dtype: int64\n"
     ]
    }
   ],
   "source": [
    "#DataFrame as a generalized NumPy array\n",
    "#a two-dimensional array with both flexible row indices and flexible column names\n",
    "area_dict = {'California': 423967,  'New Jersey': 141297,\n",
    "             'Florida': 170312,'Texas': 695662, 'Illinois': 149995}\n",
    "area = pd.Series(area_dict)\n",
    "print(area)"
   ]
  },
  {
   "cell_type": "code",
   "execution_count": 42,
   "id": "1227689e",
   "metadata": {},
   "outputs": [
    {
     "name": "stdout",
     "output_type": "stream",
     "text": [
      "            population      area\n",
      "California  38332521.0  423967.0\n",
      "Florida     19552860.0  170312.0\n",
      "Illinois    12882135.0  149995.0\n",
      "New Jersey         NaN  141297.0\n",
      "New York    19651127.0       NaN\n",
      "Texas       26448193.0  695662.0\n",
      "Index of dataframe:  Index(['California', 'Florida', 'Illinois', 'New Jersey', 'New York', 'Texas'], dtype='object')\n",
      "columns of dataframe:  Index(['population', 'area'], dtype='object')\n",
      "values of dataframe:  [[38332521.   423967.]\n",
      " [19552860.   170312.]\n",
      " [12882135.   149995.]\n",
      " [      nan   141297.]\n",
      " [19651127.       nan]\n",
      " [26448193.   695662.]]\n",
      "type of column data:  <class 'pandas.core.series.Series'>\n",
      "type of column data:  <class 'pandas.core.series.Series'>\n"
     ]
    }
   ],
   "source": [
    "#create dataframe by combining the 2 series\n",
    "#even if the orders of index in the series were different\n",
    "#if population of 1 state is missing, it takes Nan\n",
    "#if area of 1 state is missing, it takes Nan\n",
    "\n",
    "states = pd.DataFrame({'population': population,\n",
    "                       'area': area})\n",
    "print(states)\n",
    "print(\"Index of dataframe: \",states.index)\n",
    "print(\"columns of dataframe: \",states.columns)\n",
    "print(\"values of dataframe: \",states.values)\n",
    "print(\"type of column data: \",type(states['population']))\n",
    "print(\"type of column data: \",type(states['area']))"
   ]
  },
  {
   "cell_type": "code",
   "execution_count": 46,
   "id": "8b3764c4",
   "metadata": {},
   "outputs": [
    {
     "name": "stdout",
     "output_type": "stream",
     "text": [
      "California    423967.0\n",
      "Florida       170312.0\n",
      "Illinois      149995.0\n",
      "New Jersey    141297.0\n",
      "New York           NaN\n",
      "Texas         695662.0\n",
      "Name: area, dtype: float64\n"
     ]
    }
   ],
   "source": [
    "#DataFrame as specialized dictionary\n",
    "#column name maps to a series of column data\n",
    "print(states['area'])\n",
    "#in a two-dimesnional NumPy array, data[0] will return the first row. \n",
    "#For a DataFrame, data['col0'] will return the first column. \n"
   ]
  },
  {
   "cell_type": "code",
   "execution_count": 47,
   "id": "e606ee40",
   "metadata": {},
   "outputs": [
    {
     "name": "stdout",
     "output_type": "stream",
     "text": [
      "            population\n",
      "California    38332521\n",
      "Texas         26448193\n",
      "New York      19651127\n",
      "Florida       19552860\n",
      "Illinois      12882135\n"
     ]
    }
   ],
   "source": [
    "#create dataframe from a single series object\n",
    "df1 = pd.DataFrame(population, columns= ['population'])\n",
    "print(df1)"
   ]
  },
  {
   "cell_type": "code",
   "execution_count": 53,
   "id": "e5aba4b4",
   "metadata": {},
   "outputs": [
    {
     "name": "stdout",
     "output_type": "stream",
     "text": [
      "[{'a': 0, 'b': 0}, {'a': 1, 'b': 1}, {'a': 2, 'b': 4}]\n",
      "dataframe is:     a  b\n",
      "0  0  0\n",
      "1  1  1\n",
      "2  2  4\n",
      "dataframe columns:  Index(['a', 'b'], dtype='object')\n",
      "dataframe index:  RangeIndex(start=0, stop=3, step=1)\n",
      "dataframe values:  [[0 0]\n",
      " [1 1]\n",
      " [2 4]]\n"
     ]
    }
   ],
   "source": [
    "#create dataframe from a list of dictionaries\n",
    "data2 = [{'a': i, 'b' : i**2} for i in range(3)]\n",
    "print(data2)\n",
    "df2 = pd.DataFrame(data2)\n",
    "print(\"dataframe is: \",df2)\n",
    "print(\"dataframe columns: \",df2.columns)\n",
    "print(\"dataframe index: \",df2.index)\n",
    "print(\"dataframe values: \",df2.values)\n"
   ]
  },
  {
   "cell_type": "code",
   "execution_count": 55,
   "id": "5d58d677",
   "metadata": {},
   "outputs": [
    {
     "name": "stdout",
     "output_type": "stream",
     "text": [
      "[{'a': 1, 'b': 2, 'c': 3}, {'b': 4, 'c': 9, 'd': 16}]\n",
      "     a  b  c     d\n",
      "0  1.0  2  3   NaN\n",
      "1  NaN  4  9  16.0\n"
     ]
    }
   ],
   "source": [
    "#when some values are missing in list of dictionaries\n",
    "data3 = [{'a':1, 'b':2, 'c':3}, {'b':2*2, 'c':3*3, 'd':4*4}]\n",
    "print(data3)\n",
    "df3 = pd.DataFrame(data3)\n",
    "print(df3)"
   ]
  },
  {
   "cell_type": "code",
   "execution_count": 61,
   "id": "d28c22cd",
   "metadata": {},
   "outputs": [
    {
     "name": "stdout",
     "output_type": "stream",
     "text": [
      "    one  two\n",
      "r1    1    8\n",
      "r2    3    6\n",
      "r3    2    3\n"
     ]
    }
   ],
   "source": [
    "#create dataframe from 2D numpy array\n",
    "df4 = pd.DataFrame(np.random.randint(10,size=(3,2)),\n",
    "                                    columns = ['one', 'two'],\n",
    "                                    index = ['r1','r2','r3'])\n",
    "print(df4)"
   ]
  },
  {
   "cell_type": "code",
   "execution_count": 65,
   "id": "5379296e",
   "metadata": {},
   "outputs": [
    {
     "name": "stdout",
     "output_type": "stream",
     "text": [
      "   A    B\n",
      "0  0  0.0\n",
      "1  0  0.0\n",
      "2  0  0.0\n"
     ]
    }
   ],
   "source": [
    "#create dataframe from a numpy structured array\n",
    "A = np.zeros(3, dtype = [('A','i8'),('B','f8')])\n",
    "A\n",
    "df5 =pd.DataFrame(A)\n",
    "print(df5)"
   ]
  }
 ],
 "metadata": {
  "kernelspec": {
   "display_name": "Python 3",
   "language": "python",
   "name": "python3"
  },
  "language_info": {
   "codemirror_mode": {
    "name": "ipython",
    "version": 3
   },
   "file_extension": ".py",
   "mimetype": "text/x-python",
   "name": "python",
   "nbconvert_exporter": "python",
   "pygments_lexer": "ipython3",
   "version": "3.8.8"
  }
 },
 "nbformat": 4,
 "nbformat_minor": 5
}
