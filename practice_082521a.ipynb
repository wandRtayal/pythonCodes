{
 "cells": [
  {
   "cell_type": "code",
   "execution_count": null,
   "id": "013cd3fb",
   "metadata": {},
   "outputs": [],
   "source": [
    "#NUMPY"
   ]
  },
  {
   "cell_type": "code",
   "execution_count": 34,
   "id": "f5eafc81",
   "metadata": {},
   "outputs": [
    {
     "name": "stdout",
     "output_type": "stream",
     "text": [
      "x<3:  [ True  True False False False False]\n",
      "x<3:  [ True  True False False False False]\n",
      "x>=3:  [False False  True  True  True  True]\n",
      "x!=3:  [ True  True False  True  True  True]\n",
      "x=3:  [False False  True False False False]\n",
      "[False  True False False False False]\n",
      "number of values greater than 1: 5\n",
      "number of values between 1 and 5 exclusive: 3\n",
      "number of values not divisible by 3: 4\n",
      "number of even values or 1: 4\n"
     ]
    }
   ],
   "source": [
    "#Boolean masking\n",
    "import numpy as np\n",
    "x = np.array([1,2,3,4,5,6])\n",
    "print('x<3: ',x<3)\n",
    "print('x<3: ',np.less(x,3))\n",
    "\n",
    "print('x>=3: ',x>=3)\n",
    "print('x!=3: ',x!=3)\n",
    "print('x=3: ',x==3)\n",
    "\n",
    "print((2 * x) == (x **2))\n",
    "\n",
    "print('number of values greater than 1:', np.sum(x>1))\n",
    "print('number of values between 1 and 5 exclusive:', np.sum((x>1) & (x<5))) #cannot use and\n",
    "print('number of values not divisible by 3:',np.sum(~(x%3==0))) \n",
    "print('number of even values or 1:',np.sum((x==1) | (x%2==0))) #cannot use or "
   ]
  },
  {
   "cell_type": "code",
   "execution_count": 24,
   "id": "8bbbd4d5",
   "metadata": {},
   "outputs": [
    {
     "name": "stdout",
     "output_type": "stream",
     "text": [
      "values greater than or equal to 4: [4 5 6]\n",
      "minimum value greater than 3: 4\n"
     ]
    }
   ],
   "source": [
    "x= np.array([1,2,3,4,5,6])\n",
    "print('values greater than or equal to 4:', x[x>=4])\n",
    "print('minimum value greater than 3:',np.min(x[x>3]))"
   ]
  },
  {
   "cell_type": "code",
   "execution_count": 17,
   "id": "3c626e9d",
   "metadata": {},
   "outputs": [
    {
     "name": "stdout",
     "output_type": "stream",
     "text": [
      "[[5 0 3 3]\n",
      " [7 9 3 5]\n",
      " [2 4 7 6]]\n",
      "number of values less than 6: 8\n",
      "number of values less than 6: 8\n",
      "number of values less than 6 in each row: [4 2 2]\n",
      "any value less than 6: True\n",
      "all values less than 10 in a row: [ True  True  True]\n"
     ]
    }
   ],
   "source": [
    "np.random.seed(0)\n",
    "x = np.random.randint(10, size=(3,4))\n",
    "print(x)\n",
    "print('number of values less than 6:', np.count_nonzero(x<6)) #since True is 1\n",
    "print('number of values less than 6:', np.sum(x<6))\n",
    "print('number of values less than 6 in each row:', np.sum(x<6, axis=1))\n",
    "print('any value less than 6:', np.any(x<6))\n",
    "print('all values less than 10 in a row:', np.any(x<10, axis=1))"
   ]
  },
  {
   "cell_type": "code",
   "execution_count": 39,
   "id": "af9c5ecf",
   "metadata": {},
   "outputs": [
    {
     "name": "stdout",
     "output_type": "stream",
     "text": [
      "1\n",
      "0\n",
      "42\n",
      "0\n",
      "42\n",
      "[False False False  True  True False]\n"
     ]
    },
    {
     "ename": "ValueError",
     "evalue": "The truth value of an array with more than one element is ambiguous. Use a.any() or a.all()",
     "output_type": "error",
     "traceback": [
      "\u001b[0;31m---------------------------------------------------------------------------\u001b[0m",
      "\u001b[0;31mValueError\u001b[0m                                Traceback (most recent call last)",
      "\u001b[0;32m<ipython-input-39-5485f5d1b72e>\u001b[0m in \u001b[0;36m<module>\u001b[0;34m\u001b[0m\n\u001b[1;32m      7\u001b[0m \u001b[0mx\u001b[0m \u001b[0;34m=\u001b[0m \u001b[0mnp\u001b[0m\u001b[0;34m.\u001b[0m\u001b[0marray\u001b[0m\u001b[0;34m(\u001b[0m\u001b[0;34m[\u001b[0m\u001b[0;36m1\u001b[0m\u001b[0;34m,\u001b[0m\u001b[0;36m2\u001b[0m\u001b[0;34m,\u001b[0m\u001b[0;36m3\u001b[0m\u001b[0;34m,\u001b[0m\u001b[0;36m4\u001b[0m\u001b[0;34m,\u001b[0m\u001b[0;36m5\u001b[0m\u001b[0;34m,\u001b[0m\u001b[0;36m6\u001b[0m\u001b[0;34m]\u001b[0m\u001b[0;34m)\u001b[0m\u001b[0;34m\u001b[0m\u001b[0;34m\u001b[0m\u001b[0m\n\u001b[1;32m      8\u001b[0m \u001b[0mprint\u001b[0m\u001b[0;34m(\u001b[0m\u001b[0;34m(\u001b[0m\u001b[0mx\u001b[0m\u001b[0;34m>\u001b[0m\u001b[0;36m3\u001b[0m\u001b[0;34m)\u001b[0m\u001b[0;34m&\u001b[0m \u001b[0;34m(\u001b[0m\u001b[0mx\u001b[0m\u001b[0;34m<\u001b[0m\u001b[0;36m6\u001b[0m\u001b[0;34m)\u001b[0m\u001b[0;34m)\u001b[0m\u001b[0;34m\u001b[0m\u001b[0;34m\u001b[0m\u001b[0m\n\u001b[0;32m----> 9\u001b[0;31m \u001b[0mprint\u001b[0m\u001b[0;34m(\u001b[0m\u001b[0;34m(\u001b[0m\u001b[0mx\u001b[0m\u001b[0;34m>\u001b[0m\u001b[0;36m3\u001b[0m\u001b[0;34m)\u001b[0m \u001b[0;32mand\u001b[0m \u001b[0;34m(\u001b[0m\u001b[0mx\u001b[0m\u001b[0;34m<\u001b[0m\u001b[0;36m6\u001b[0m\u001b[0;34m)\u001b[0m\u001b[0;34m)\u001b[0m\u001b[0;34m\u001b[0m\u001b[0;34m\u001b[0m\u001b[0m\n\u001b[0m",
      "\u001b[0;31mValueError\u001b[0m: The truth value of an array with more than one element is ambiguous. Use a.any() or a.all()"
     ]
    }
   ],
   "source": [
    "print(42 and 1)\n",
    "print(42 and 0)\n",
    "print(42 or 0)\n",
    "print(42 & 0)\n",
    "print(42 | 0)\n",
    "#but and/or operators act different than &/| in numpy array\n",
    "x = np.array([1,2,3,4,5,6])\n",
    "print((x>3) & (x<6))\n",
    "print((x>3) and (x<6))"
   ]
  }
 ],
 "metadata": {
  "kernelspec": {
   "display_name": "Python 3",
   "language": "python",
   "name": "python3"
  },
  "language_info": {
   "codemirror_mode": {
    "name": "ipython",
    "version": 3
   },
   "file_extension": ".py",
   "mimetype": "text/x-python",
   "name": "python",
   "nbconvert_exporter": "python",
   "pygments_lexer": "ipython3",
   "version": "3.8.8"
  }
 },
 "nbformat": 4,
 "nbformat_minor": 5
}
