{
 "cells": [
  {
   "cell_type": "code",
   "execution_count": 3,
   "id": "4679da93",
   "metadata": {},
   "outputs": [
    {
     "name": "stdout",
     "output_type": "stream",
     "text": [
      "practice_082121.ipynb\n",
      "/Users/ashimatayal/Documents/BUAN 6340/Untitled Folder\n",
      "shell commands\n"
     ]
    }
   ],
   "source": [
    "!ls\n",
    "!pwd\n",
    "!echo \"shell commands\""
   ]
  },
  {
   "cell_type": "code",
   "execution_count": 5,
   "id": "517497dd",
   "metadata": {},
   "outputs": [
    {
     "name": "stdout",
     "output_type": "stream",
     "text": [
      "['practice_082121.ipynb']\n"
     ]
    }
   ],
   "source": [
    "contents = !ls\n",
    "print(contents)"
   ]
  },
  {
   "cell_type": "code",
   "execution_count": 7,
   "id": "1db1e03d",
   "metadata": {},
   "outputs": [
    {
     "name": "stdout",
     "output_type": "stream",
     "text": [
      "['/Users/ashimatayal/Documents/BUAN 6340/Untitled Folder']\n"
     ]
    },
    {
     "data": {
      "text/plain": [
       "IPython.utils.text.SList"
      ]
     },
     "execution_count": 7,
     "metadata": {},
     "output_type": "execute_result"
    }
   ],
   "source": [
    "directory = !pwd\n",
    "print(directory)\n",
    "type(directory)"
   ]
  },
  {
   "cell_type": "code",
   "execution_count": 11,
   "id": "ff119969",
   "metadata": {},
   "outputs": [
    {
     "name": "stdout",
     "output_type": "stream",
     "text": [
      "message\n",
      "Hello World Ashima\n"
     ]
    }
   ],
   "source": [
    "message = \"Hello World Ashima\"\n",
    "!echo message\n",
    "!echo {message}"
   ]
  },
  {
   "cell_type": "code",
   "execution_count": 12,
   "id": "c214e908",
   "metadata": {},
   "outputs": [
    {
     "name": "stdout",
     "output_type": "stream",
     "text": [
      "zsh:1: command not found: cd..\r\n"
     ]
    }
   ],
   "source": [
    "!cd.."
   ]
  },
  {
   "cell_type": "code",
   "execution_count": 28,
   "id": "53b74d69",
   "metadata": {},
   "outputs": [
    {
     "name": "stdout",
     "output_type": "stream",
     "text": [
      "/Users/ashimatayal\n",
      "/Users/ashimatayal\n",
      "\u001b[34mApplications\u001b[m\u001b[m \u001b[34mDocuments\u001b[m\u001b[m    \u001b[34mLibrary\u001b[m\u001b[m      \u001b[34mMusic\u001b[m\u001b[m        \u001b[34mPublic\u001b[m\u001b[m\n",
      "\u001b[34mDesktop\u001b[m\u001b[m      \u001b[34mDownloads\u001b[m\u001b[m    \u001b[34mMovies\u001b[m\u001b[m       \u001b[34mPictures\u001b[m\u001b[m     \u001b[34mopt\u001b[m\u001b[m\n",
      "/Users/ashimatayal/Documents\n",
      "/Users/ashimatayal/Documents\n",
      "2019_Book_DataScienceForHealthcare.pdf \u001b[34mMy Tableau Repository\u001b[m\u001b[m\n",
      "\u001b[34mBUAN 6340\u001b[m\u001b[m                              \u001b[34mPowerBI\u001b[m\u001b[m\n",
      "\u001b[34mCoursera Wharton\u001b[m\u001b[m                       \u001b[34mZoom\u001b[m\u001b[m\n",
      "/Users/ashimatayal/Documents/BUAN 6340\n",
      "\u001b[34mLecture Videos\u001b[m\u001b[m    \u001b[34mUntitled Folder\u001b[m\u001b[m   \u001b[34melearningPages\u001b[m\u001b[m    \u001b[34mjupyter notebooks\u001b[m\u001b[m\n",
      "/Users/ashimatayal/Documents/BUAN 6340/Untitled Folder\n",
      "practice_082121.ipynb\n"
     ]
    }
   ],
   "source": [
    "%cd\n",
    "!pwd\n",
    "!ls\n",
    "%cd Documents/\n",
    "!pwd\n",
    "!ls\n",
    "%cd BUAN\\ 6340\n",
    "!ls\n",
    "%cd Untitled\\ Folder\n",
    "!ls\n",
    "#notice the use of ! with all shell commands and % with cd command\n",
    "#using \\ as escape for the space in folder name"
   ]
  },
  {
   "cell_type": "code",
   "execution_count": null,
   "id": "4b709d7d",
   "metadata": {},
   "outputs": [],
   "source": [
    "# Besides %cd, other available shell-like magic functions are \n",
    "# %cat, %cp, %env, %ls, %man, %mkdir, %more, %mv, %pwd, %rm, and %rmdir\n",
    "# any of which can be used without the % sign if automagic is on. \n",
    "# This is known as an automagic function, and this behavior can be toggled with the %automagic magic function.\n"
   ]
  },
  {
   "cell_type": "code",
   "execution_count": 38,
   "id": "e53b8557",
   "metadata": {},
   "outputs": [
    {
     "name": "stdout",
     "output_type": "stream",
     "text": [
      "\n",
      "Automagic is ON, % prefix IS NOT needed for line magics.\n"
     ]
    }
   ],
   "source": [
    "%automagic"
   ]
  },
  {
   "cell_type": "code",
   "execution_count": 44,
   "id": "e636e3fd",
   "metadata": {},
   "outputs": [
    {
     "name": "stdout",
     "output_type": "stream",
     "text": [
      "/Users/ashimatayal\n"
     ]
    }
   ],
   "source": [
    "cd\n"
   ]
  },
  {
   "cell_type": "code",
   "execution_count": 45,
   "id": "d6bc0526",
   "metadata": {},
   "outputs": [
    {
     "name": "stdout",
     "output_type": "stream",
     "text": [
      "\u001b[34mApplications\u001b[m\u001b[m \u001b[34mDocuments\u001b[m\u001b[m    \u001b[34mLibrary\u001b[m\u001b[m      \u001b[34mMusic\u001b[m\u001b[m        \u001b[34mPublic\u001b[m\u001b[m\r\n",
      "\u001b[34mDesktop\u001b[m\u001b[m      \u001b[34mDownloads\u001b[m\u001b[m    \u001b[34mMovies\u001b[m\u001b[m       \u001b[34mPictures\u001b[m\u001b[m     \u001b[34mopt\u001b[m\u001b[m\r\n"
     ]
    }
   ],
   "source": [
    "!ls"
   ]
  },
  {
   "cell_type": "code",
   "execution_count": 46,
   "id": "fde106b5",
   "metadata": {},
   "outputs": [
    {
     "name": "stdout",
     "output_type": "stream",
     "text": [
      "/Users/ashimatayal/Documents\n"
     ]
    }
   ],
   "source": [
    "cd Documents/"
   ]
  },
  {
   "cell_type": "code",
   "execution_count": null,
   "id": "0416d575",
   "metadata": {},
   "outputs": [],
   "source": [
    "#with shell commands, you can almost treat the IPython prompt as if it's a normal shell"
   ]
  },
  {
   "cell_type": "code",
   "execution_count": null,
   "id": "a1f60e0a",
   "metadata": {},
   "outputs": [],
   "source": []
  }
 ],
 "metadata": {
  "kernelspec": {
   "display_name": "Python 3",
   "language": "python",
   "name": "python3"
  },
  "language_info": {
   "codemirror_mode": {
    "name": "ipython",
    "version": 3
   },
   "file_extension": ".py",
   "mimetype": "text/x-python",
   "name": "python",
   "nbconvert_exporter": "python",
   "pygments_lexer": "ipython3",
   "version": "3.8.8"
  }
 },
 "nbformat": 4,
 "nbformat_minor": 5
}
