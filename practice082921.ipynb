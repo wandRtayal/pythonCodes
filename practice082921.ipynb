{
 "cells": [
  {
   "cell_type": "code",
   "execution_count": 20,
   "id": "9053f3b5",
   "metadata": {},
   "outputs": [
    {
     "name": "stdout",
     "output_type": "stream",
     "text": [
      "[51 92 14 71 60 20 82 86 74 74]\n",
      "[92 14 60]\n",
      "[[92 60]\n",
      " [14 20]\n",
      " [71 82]]\n"
     ]
    }
   ],
   "source": [
    "#NUMPY Fancy Indexing\n",
    "import numpy as np\n",
    "np.random.seed(42)\n",
    "\n",
    "x = np.random.randint(100, size = (10))\n",
    "print(x)\n",
    "ind1 = np.array([1,2,4])\n",
    "print(x[ind1])\n",
    "#the shape of the result reflects the shape of the index arrays rather than the shape of the array being indexed:\n",
    "ind2 = np.array([[1,4],[2,5],[3,6]])\n",
    "print(x[ind2])\n"
   ]
  },
  {
   "cell_type": "code",
   "execution_count": 38,
   "id": "02e34e2a",
   "metadata": {},
   "outputs": [
    {
     "name": "stdout",
     "output_type": "stream",
     "text": [
      "[[ 5  0  3 11]\n",
      " [ 3  7  9  3]\n",
      " [ 5  2  4  7]]\n",
      "[11  9  2]\n",
      "[[11  3  0]\n",
      " [ 3  9  7]\n",
      " [ 7  4  2]]\n",
      "[2 4 7]\n",
      "[[7 9 3]\n",
      " [2 4 7]]\n"
     ]
    }
   ],
   "source": [
    "np.random.seed(0)\n",
    "x= np.random.randint(12, size = (3,4))\n",
    "print(x)\n",
    "row = np.array([0,1,2])\n",
    "col = np.array([3,2,1])\n",
    "print(x[row,col])\n",
    "print(x[row[:, np.newaxis],col])\n",
    "print(x[2,[1,2,3]])\n",
    "print(x[1:,[1,2,3]])\n",
    "\n"
   ]
  },
  {
   "cell_type": "code",
   "execution_count": 43,
   "id": "0e7c99df",
   "metadata": {},
   "outputs": [
    {
     "name": "stdout",
     "output_type": "stream",
     "text": [
      "[0 1 2 3 4 5 6 7 8 9]\n",
      "[ 0  1  2 -1  4  5 -1  7  8 -1]\n"
     ]
    }
   ],
   "source": [
    "\n",
    "np.random.seed(0)\n",
    "x = np.arange(10)\n",
    "print(x)\n",
    "ind = np.array([3,6,9])\n",
    "x[ind] = -1\n",
    "print(x)\n"
   ]
  },
  {
   "cell_type": "code",
   "execution_count": 72,
   "id": "84cc775b",
   "metadata": {},
   "outputs": [
    {
     "name": "stdout",
     "output_type": "stream",
     "text": [
      "[ 0.  0.  0.  0.  0.  1.  3.  7.  9. 23. 22. 17. 10.  7.  1.  0.  0.  0.\n",
      "  0.  0.]\n"
     ]
    }
   ],
   "source": [
    "#creating a histogram \n",
    "np.random.seed(42)\n",
    "x = np.random.randn(100)\n",
    "\n",
    "#print(x)\n",
    "# compute a histogram by hand\n",
    "bins = np.linspace(-5, 5, 20)\n",
    "#print(bins)\n",
    "counts = np.zeros_like(bins)\n",
    "#print(counts)\n",
    "# find the appropriate bin for each x\n",
    "i = np.searchsorted(bins, x)\n",
    "#print(i)\n",
    "\n",
    "# add 1 to each of these bins\n",
    "np.add.at(counts, i, 1)\n",
    "print(counts)"
   ]
  },
  {
   "cell_type": "code",
   "execution_count": 85,
   "id": "343d0269",
   "metadata": {},
   "outputs": [
    {
     "name": "stdout",
     "output_type": "stream",
     "text": [
      "[37 12 72  9 75  5 79 64 16  1 76 71  6 25 50 20 18 84 11 28]\n",
      "20\n",
      "[ 1  5  6  9 11 12 16 18 20 25 28 37 50 64 71 72 75 76 79 84]\n"
     ]
    }
   ],
   "source": [
    "#selection_sort\n",
    "\n",
    "np.random.seed(1)\n",
    "x = np.random.randint(100, size =20)\n",
    "print(x)\n",
    "print(x.shape[0])\n",
    "len = x.shape[0]\n",
    "for i in range(0,len):\n",
    "    for j in range(i, len):\n",
    "        if x[i] > x[j]:\n",
    "            tem = x[i]\n",
    "            x[i] = x[j]\n",
    "            x[j] = tem\n",
    "print(x)"
   ]
  },
  {
   "cell_type": "code",
   "execution_count": 88,
   "id": "eed8da6a",
   "metadata": {},
   "outputs": [
    {
     "data": {
      "text/plain": [
       "array([0, 1, 2, 3, 4, 5])"
      ]
     },
     "execution_count": 88,
     "metadata": {},
     "output_type": "execute_result"
    }
   ],
   "source": [
    "#selection sort\n",
    "\n",
    "def selection_sort(x):\n",
    "    for i in range(x.shape[0]):\n",
    "        swap = i + np.argmin(x[i:])\n",
    "        (x[i], x[swap]) = (x[swap], x[i])\n",
    "    return x\n",
    "\n",
    "np.random.seed(1)\n",
    "#x = np.random.randint(100, size =20)\n",
    "x = np.array([1,5,3,0,2,4])\n",
    "selection_sort(x)"
   ]
  },
  {
   "cell_type": "code",
   "execution_count": 102,
   "id": "b0e2f0fa",
   "metadata": {},
   "outputs": [
    {
     "name": "stdout",
     "output_type": "stream",
     "text": [
      "original array:  [37 12 72  9 75  5 79 64 16  1 76 71  6 25 50 20 18 84 11 28]\n",
      "sorted array:  [ 1  5  6  9 11 12 16 18 20 25 28 37 50 64 71 72 75 76 79 84]\n",
      "but original array remains unchanged:  [37 12 72  9 75  5 79 64 16  1 76 71  6 25 50 20 18 84 11 28]\n",
      "index of element in sorted array:  [ 9  5 12  3 18  1  8 16 15 13 19  0 14  7 11  2  4 10  6 17]\n",
      "sorted array and original array changes:  [ 1  5  6  9 11 12 16 18 20 25 28 37 50 64 71 72 75 76 79 84]\n"
     ]
    }
   ],
   "source": [
    "np.random.seed(1)\n",
    "x = np.random.randint(100, size =20)\n",
    "print('original array: ',x)\n",
    "print('sorted array: ',np.sort(x))\n",
    "print('but original array remains unchanged: ',x)\n",
    "i = np.argsort(x)\n",
    "print('index of element in sorted array: ',i)\n",
    "x.sort()\n",
    "print('sorted array and original array changes: ',x)\n"
   ]
  },
  {
   "cell_type": "code",
   "execution_count": 104,
   "id": "e61c3a41",
   "metadata": {},
   "outputs": [
    {
     "name": "stdout",
     "output_type": "stream",
     "text": [
      "[[6 3 7 4 6 9]\n",
      " [2 6 7 4 3 7]\n",
      " [7 2 5 4 1 7]\n",
      " [5 1 4 0 9 5]]\n"
     ]
    },
    {
     "data": {
      "text/plain": [
       "array([[2, 1, 4, 0, 1, 5],\n",
       "       [5, 2, 5, 4, 3, 7],\n",
       "       [6, 3, 7, 4, 6, 7],\n",
       "       [7, 6, 7, 4, 9, 9]])"
      ]
     },
     "execution_count": 104,
     "metadata": {},
     "output_type": "execute_result"
    }
   ],
   "source": [
    "rand = np.random.RandomState(42)\n",
    "X = rand.randint(0, 10, (4, 6))\n",
    "print(X)\n",
    "np.sort(X, axis=0)"
   ]
  }
 ],
 "metadata": {
  "kernelspec": {
   "display_name": "Python 3",
   "language": "python",
   "name": "python3"
  },
  "language_info": {
   "codemirror_mode": {
    "name": "ipython",
    "version": 3
   },
   "file_extension": ".py",
   "mimetype": "text/x-python",
   "name": "python",
   "nbconvert_exporter": "python",
   "pygments_lexer": "ipython3",
   "version": "3.8.8"
  }
 },
 "nbformat": 4,
 "nbformat_minor": 5
}
