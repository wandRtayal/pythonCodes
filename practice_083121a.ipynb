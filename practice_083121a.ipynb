{
 "cells": [
  {
   "cell_type": "code",
   "execution_count": null,
   "id": "97ccaaf1",
   "metadata": {},
   "outputs": [],
   "source": [
    "#hackerrank questions"
   ]
  },
  {
   "cell_type": "code",
   "execution_count": 12,
   "id": "4e6a3747",
   "metadata": {},
   "outputs": [
    {
     "name": "stdout",
     "output_type": "stream",
     "text": [
      "1\n",
      "1\n",
      "1\n",
      "2\n",
      "[[0, 0, 0], [0, 0, 1], [0, 1, 0], [1, 0, 0], [1, 1, 1]]\n"
     ]
    }
   ],
   "source": [
    "#List comprehension - create permutationn of 3 lists such that the new list has a condition\n",
    "x = int(input()) #input 1\n",
    "y = int(input()) #input 1\n",
    "z = int(input()) #input 1\n",
    "n = int(input()) #input 2\n",
    "    \n",
    "l1 = list(range(x+1))\n",
    "l2 = list(range(y+1))\n",
    "l3 = list(range(z+1))\n",
    "\n",
    "    \n",
    "l_perm = [[i,j,k] for i in l1 for j in l2 for k in l3 if (i+j+k)!=n]\n",
    "\n",
    "print(l_perm)\n",
    "\n",
    "\n"
   ]
  },
  {
   "cell_type": "code",
   "execution_count": 29,
   "id": "4ea3a034",
   "metadata": {},
   "outputs": [
    {
     "name": "stdout",
     "output_type": "stream",
     "text": [
      "2 3 6 6 5\n",
      "<class 'map'>\n",
      "6\n",
      "5\n"
     ]
    }
   ],
   "source": [
    "#find second highest in an input map \n",
    "n= 5\n",
    "arr = map(int, input().strip().split()) #input 2 3 6 6 5\n",
    "print(type(arr))\n",
    "l1 = list(arr)\n",
    "max = l1[0]\n",
    "for i in range(0,n):\n",
    "    if max < l1[i]:\n",
    "        max = l1[i]\n",
    "print(max)\n",
    "max_2 = l1[0]\n",
    "for i in range(0,n):\n",
    "    if l1[i] == max: continue\n",
    "    if max_2 < l1[i]:\n",
    "        max_2 = l1[i]\n",
    "        \n",
    "print(max_2)\n",
    "\n"
   ]
  },
  {
   "cell_type": "code",
   "execution_count": 34,
   "id": "dbded613",
   "metadata": {},
   "outputs": [
    {
     "name": "stdout",
     "output_type": "stream",
     "text": [
      "2 3 6 6 5\n",
      "5\n"
     ]
    }
   ],
   "source": [
    "#this is correct code for above - works for all test cases\n",
    "n= 5\n",
    "arr = map(int, input().strip().split()) #input 2 3 6 6 5\n",
    "l1 = list(arr)\n",
    "s1 = list(set(l1))\n",
    "max_second = sorted(s1)[-2]\n",
    "print(max_second)"
   ]
  }
 ],
 "metadata": {
  "kernelspec": {
   "display_name": "Python 3",
   "language": "python",
   "name": "python3"
  },
  "language_info": {
   "codemirror_mode": {
    "name": "ipython",
    "version": 3
   },
   "file_extension": ".py",
   "mimetype": "text/x-python",
   "name": "python",
   "nbconvert_exporter": "python",
   "pygments_lexer": "ipython3",
   "version": "3.8.8"
  }
 },
 "nbformat": 4,
 "nbformat_minor": 5
}
