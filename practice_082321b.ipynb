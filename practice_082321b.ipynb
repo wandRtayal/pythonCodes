{
 "cells": [
  {
   "cell_type": "code",
   "execution_count": null,
   "id": "642d46dd",
   "metadata": {},
   "outputs": [],
   "source": [
    "#Functions and Data Structures"
   ]
  },
  {
   "cell_type": "code",
   "execution_count": 4,
   "id": "12c0d67b",
   "metadata": {},
   "outputs": [
    {
     "name": "stdout",
     "output_type": "stream",
     "text": [
      "meow\n",
      "meow\n",
      "None <class 'NoneType'>\n"
     ]
    }
   ],
   "source": [
    "def main():\n",
    "    kitten()\n",
    "    show_return()\n",
    "def kitten():\n",
    "    print('meow')\n",
    "def show_return():\n",
    "    x=kitten()\n",
    "    print(x, type(x))\n",
    "    \n",
    "if __name__ == '__main__': main() #__name__ returns the name of the calling module"
   ]
  },
  {
   "cell_type": "code",
   "execution_count": 11,
   "id": "9543ef02",
   "metadata": {},
   "outputs": [
    {
     "name": "stdout",
     "output_type": "stream",
     "text": [
      "meow\n",
      "grrr\n",
      "purr\n",
      "nope\n"
     ]
    }
   ],
   "source": [
    "def main():\n",
    "    kitten('meow', 'grrr', 'purr')\n",
    "    kitten()\n",
    "\n",
    "def kitten(*args):\n",
    "    if len(args):\n",
    "        for s in args:\n",
    "            print(s)\n",
    "    else: print('nope')\n",
    "\n",
    "if __name__ == '__main__': main()"
   ]
  },
  {
   "cell_type": "code",
   "execution_count": 18,
   "id": "b1ffa159",
   "metadata": {},
   "outputs": [
    {
     "name": "stdout",
     "output_type": "stream",
     "text": [
      "Kitten Buffy says meow\n",
      "Kitten Zilla says grr\n",
      "Kitten Angel says rawr\n"
     ]
    }
   ],
   "source": [
    "def main():\n",
    "    kitten(Buffy = 'meow', Zilla = 'grr', Angel = 'rawr')\n",
    "    \n",
    "def kitten(**kwargs):\n",
    "    if len(kwargs):\n",
    "        for k in kwargs:\n",
    "            print('Kitten {} says {}'.format(k, kwargs[k]))\n",
    "    else: print('Meow.')\n",
    "\n",
    "if __name__ == '__main__': main()\n"
   ]
  },
  {
   "cell_type": "code",
   "execution_count": 19,
   "id": "b8a9cb7f",
   "metadata": {},
   "outputs": [
    {
     "name": "stdout",
     "output_type": "stream",
     "text": [
      "0 1 2 3 4 5 6 7 8 9 10 11 12 13 14 15 16 17 18 19 20 21 22 23 24 25 \n"
     ]
    }
   ],
   "source": [
    "#Generator\n",
    "def main():\n",
    "    for i in inclusive_range(25):\n",
    "        print(i, end = ' ')\n",
    "    print()\n",
    "\n",
    "def inclusive_range(*args):\n",
    "    numargs = len(args)\n",
    "    start = 0\n",
    "    step = 1\n",
    "    \n",
    "    # initialize parameters\n",
    "    if numargs < 1:\n",
    "        raise TypeError(f'expected at least 1 argument, got {numargs}')\n",
    "    elif numargs == 1:\n",
    "        stop = args[0]\n",
    "    elif numargs == 2:\n",
    "        (start, stop) = args\n",
    "    elif numargs == 3:\n",
    "        (start, stop, step) = args\n",
    "    else: raise TypeError(f'expected at most 3 arguments, got {numargs}')\n",
    "\n",
    "    # generator\n",
    "    i = start\n",
    "    while i <= stop:\n",
    "        yield i\n",
    "        i += step\n",
    "\n",
    "if __name__ == '__main__': main()\n"
   ]
  },
  {
   "cell_type": "code",
   "execution_count": 20,
   "id": "8bf6fd2a",
   "metadata": {},
   "outputs": [
    {
     "name": "stdout",
     "output_type": "stream",
     "text": [
      "this is f1\n"
     ]
    }
   ],
   "source": [
    "#DECORATOR\n",
    "def f1():\n",
    "    print('this is f1')\n",
    "\n",
    "x= f1\n",
    "x()"
   ]
  },
  {
   "cell_type": "code",
   "execution_count": 27,
   "id": "c8b240a0",
   "metadata": {},
   "outputs": [
    {
     "name": "stdout",
     "output_type": "stream",
     "text": [
      "this is f1\n",
      "this is f2\n"
     ]
    }
   ],
   "source": [
    "def f1():\n",
    "    print(\"this is f1\")\n",
    "    def f2():\n",
    "        print('this is f2')\n",
    "    return f2\n",
    "\n",
    "x= f1()\n",
    "x()"
   ]
  },
  {
   "cell_type": "code",
   "execution_count": 28,
   "id": "6249f644",
   "metadata": {},
   "outputs": [
    {
     "name": "stdout",
     "output_type": "stream",
     "text": [
      "this is f1\n",
      "before function call\n",
      "this is f2\n",
      "this is f3\n",
      "after function call\n"
     ]
    }
   ],
   "source": [
    "def f1(f):\n",
    "    print(\"this is f1\")\n",
    "    def f2():\n",
    "        print('before function call')\n",
    "        print('this is f2')\n",
    "        f()\n",
    "        print('after function call')\n",
    "    return f2\n",
    "\n",
    "def f3():\n",
    "    print('this is f3')\n",
    "    \n",
    "x =f1(f3)\n",
    "x()"
   ]
  },
  {
   "cell_type": "code",
   "execution_count": 107,
   "id": "fa705c8f",
   "metadata": {},
   "outputs": [
    {
     "name": "stdout",
     "output_type": "stream",
     "text": [
      "[1, 2, 3, 52, 21] <class 'list'>\n",
      "lets mutate [1, 2, 100, 52, 21] <class 'list'>\n",
      "(1, 2, 3, 52, 21) <class 'tuple'> cannot mutate tuple\n",
      "{1: 'one', 2: 'two', 3: 'three', 'four': 4} <class 'dict'>\n",
      "lets mutate {1: 'one', 2: 2, 3: 'three', 'four': 4, 5: 'five'} <class 'dict'>\n"
     ]
    },
    {
     "ename": "TypeError",
     "evalue": "set expected at most 1 argument, got 16",
     "output_type": "error",
     "traceback": [
      "\u001b[0;31m---------------------------------------------------------------------------\u001b[0m",
      "\u001b[0;31mTypeError\u001b[0m                                 Traceback (most recent call last)",
      "\u001b[0;32m<ipython-input-107-f63926be9e7d>\u001b[0m in \u001b[0;36m<module>\u001b[0;34m\u001b[0m\n\u001b[1;32m     14\u001b[0m \u001b[0;34m\u001b[0m\u001b[0m\n\u001b[1;32m     15\u001b[0m \u001b[0;31m#x = {1,52,93,21,1,2,3,21,1,2,31,4,5,1,2,11}\u001b[0m\u001b[0;34m\u001b[0m\u001b[0;34m\u001b[0m\u001b[0;34m\u001b[0m\u001b[0m\n\u001b[0;32m---> 16\u001b[0;31m \u001b[0mx\u001b[0m\u001b[0;34m=\u001b[0m \u001b[0mset\u001b[0m\u001b[0;34m(\u001b[0m\u001b[0;36m1\u001b[0m\u001b[0;34m,\u001b[0m\u001b[0;36m52\u001b[0m\u001b[0;34m,\u001b[0m\u001b[0;36m93\u001b[0m\u001b[0;34m,\u001b[0m\u001b[0;36m21\u001b[0m\u001b[0;34m,\u001b[0m\u001b[0;36m1\u001b[0m\u001b[0;34m,\u001b[0m\u001b[0;36m2\u001b[0m\u001b[0;34m,\u001b[0m\u001b[0;36m3\u001b[0m\u001b[0;34m,\u001b[0m\u001b[0;36m21\u001b[0m\u001b[0;34m,\u001b[0m\u001b[0;36m1\u001b[0m\u001b[0;34m,\u001b[0m\u001b[0;36m2\u001b[0m\u001b[0;34m,\u001b[0m\u001b[0;36m31\u001b[0m\u001b[0;34m,\u001b[0m\u001b[0;36m4\u001b[0m\u001b[0;34m,\u001b[0m\u001b[0;36m5\u001b[0m\u001b[0;34m,\u001b[0m\u001b[0;36m1\u001b[0m\u001b[0;34m,\u001b[0m\u001b[0;36m2\u001b[0m\u001b[0;34m,\u001b[0m\u001b[0;36m11\u001b[0m\u001b[0;34m)\u001b[0m\u001b[0;34m\u001b[0m\u001b[0;34m\u001b[0m\u001b[0m\n\u001b[0m\u001b[1;32m     17\u001b[0m \u001b[0mprint\u001b[0m\u001b[0;34m(\u001b[0m\u001b[0mx\u001b[0m\u001b[0;34m,\u001b[0m \u001b[0mtype\u001b[0m\u001b[0;34m(\u001b[0m\u001b[0mx\u001b[0m\u001b[0;34m)\u001b[0m\u001b[0;34m)\u001b[0m\u001b[0;34m\u001b[0m\u001b[0;34m\u001b[0m\u001b[0m\n\u001b[1;32m     18\u001b[0m \u001b[0mx\u001b[0m\u001b[0;34m.\u001b[0m\u001b[0madd\u001b[0m\u001b[0;34m(\u001b[0m\u001b[0;36m100\u001b[0m\u001b[0;34m)\u001b[0m\u001b[0;34m\u001b[0m\u001b[0;34m\u001b[0m\u001b[0m\n",
      "\u001b[0;31mTypeError\u001b[0m: set expected at most 1 argument, got 16"
     ]
    }
   ],
   "source": [
    "x = [1,2,3,52,21]\n",
    "print(x, type(x))\n",
    "x[2]= 100\n",
    "print('lets mutate', x, type(x))\n",
    "\n",
    "x = (1,2,3,52,21)\n",
    "print(x, type(x), 'cannot mutate tuple')\n",
    "\n",
    "x = {1:\"one\",2:\"two\",3:'three','four':4}\n",
    "print(x, type(x))\n",
    "x[5] = 'five'\n",
    "x[2] = 2\n",
    "print('lets mutate', x, type(x))\n",
    "\n",
    "x = {1,52,93,21,1,2,3,21,1,2,31,4,5,1,2,11}\n",
    "print(x, type(x))\n",
    "x.add(100)\n",
    "print('lets mutate', x, type(x))"
   ]
  },
  {
   "cell_type": "code",
   "execution_count": 64,
   "id": "8b021c4f",
   "metadata": {},
   "outputs": [
    {
     "name": "stdout",
     "output_type": "stream",
     "text": [
      "Rock Paper Scissors Lizard Spock \n",
      "['Paper', 'Lizard']\n",
      "1\n",
      "['Bag', 'Rock', 'Paper', 'Scissors', 'Lizard', 'Spock', 'Pen']\n",
      "['Rock', 'Paper', 'Scissors', 'Lizard', 'Spock', 'Pen']\n",
      "Pen\n",
      "['Rock', 'Paper', 'Scissors', 'Lizard', 'Spock']\n",
      "Lizard\n",
      "['Rock', 'Paper', 'Scissors', 'Spock']\n",
      "['Rock', 'Paper', 'Scissors', 'Lizard', 'Spock']\n",
      "Rock, Scissors, Spock\n",
      "3\n"
     ]
    }
   ],
   "source": [
    "#LIST - ordered, sequential, iterable\n",
    "def main():\n",
    "    game = [ 'Rock', 'Paper', 'Scissors', 'Lizard', 'Spock' ]\n",
    "    print_list(game)\n",
    "    print(game[1:5:2])\n",
    "    print(game.index('Paper'))\n",
    "    game.append('Pen')\n",
    "    game.insert(0,'Bag')\n",
    "    print(game)\n",
    "    game.remove('Bag')\n",
    "    print(game)\n",
    "    print(game.pop()) #game.pop() will remove from end of list \n",
    "    print(game)\n",
    "    print(game.pop(3))\n",
    "    print(game)\n",
    "    game.insert(3,'Lizard')\n",
    "    print(game)\n",
    "    #using string functions on list\n",
    "    del game[1:5:2]\n",
    "    print(', '.join(game))\n",
    "    print(len(game))\n",
    "\n",
    "def print_list(o):\n",
    "    for i in o: print(i, end=' ', flush=True)\n",
    "    print()\n",
    "\n",
    "if __name__ == '__main__': main()\n"
   ]
  },
  {
   "cell_type": "code",
   "execution_count": 83,
   "id": "c6fbe5a7",
   "metadata": {},
   "outputs": [
    {
     "name": "stdout",
     "output_type": "stream",
     "text": [
      "kitten: meow\n",
      "puppy: ruff!\n",
      "lion: grrr\n",
      "giraffe: I am a giraffe!\n",
      "dragon: rawr\n",
      "In main kitten : meow\n",
      "In main puppy : ruff!\n",
      "In main lion : grrr\n",
      "In main giraffe : I am a giraffe!\n",
      "In main dragon : rawr\n",
      "kitten puppy lion giraffe dragon \n",
      "meow ruff! grrr I am a giraffe! rawr \n",
      "lion : grrr\n",
      "lion : i am a lion\n",
      "kitten puppy lion giraffe dragon monkey \n",
      "lion found!\n",
      "False\n",
      "finding godzilla None\n"
     ]
    }
   ],
   "source": [
    "#DICTIONARIES - keys and values can be any type, but keys are immutable\n",
    "def main():\n",
    "    animals = { 'kitten': 'meow', 'puppy': 'ruff!', 'lion': 'grrr',\n",
    "        'giraffe': 'I am a giraffe!', 'dragon': 'rawr' }\n",
    "    #or create using dictionary construtor /keyword argument method useful when keys are strings\n",
    "    animals = dict( kitten= 'meow', puppy= 'ruff!', lion= 'grrr',\n",
    "        giraffe= 'I am a giraffe!', dragon= 'rawr' )\n",
    "    print_dict(animals)\n",
    "    \n",
    "    for k,v in animals.items():\n",
    "        print(f'In main {k} : {v}')\n",
    "        \n",
    "    for k in animals.keys():\n",
    "        print(k, end= ' ')\n",
    "\n",
    "    print()\n",
    "    for v in animals.values(): print(v, end= ' ')\n",
    "    \n",
    "    print()\n",
    "    print('lion : {}'.format(animals['lion']))\n",
    "    animals['lion'] = 'i am a lion'\n",
    "    print('lion : {}'.format(animals['lion']))\n",
    "    \n",
    "    animals['monkey'] = 'eating banana'\n",
    "    for k in animals.keys():\n",
    "        print(k, end= ' ')\n",
    "    \n",
    "    print()\n",
    "    print('lion found!' if 'lion' in animals else 'no lion')\n",
    "    print('godzilla' in animals)\n",
    "    \n",
    "    #print(animals['godzilla']) #will give exception because this key does not exist\n",
    "    #instead use get function when you dont know if the key exists\n",
    "    print('finding godzilla', animals.get('godzilla'))\n",
    "    \n",
    "    \n",
    "\n",
    "def print_dict(o):\n",
    "    for x in o: print(f'{x}: {o[x]}')\n",
    "\n",
    "if __name__ == '__main__': main()\n"
   ]
  },
  {
   "cell_type": "code",
   "execution_count": 112,
   "id": "e41c4ad3",
   "metadata": {},
   "outputs": [
    {
     "name": "stdout",
     "output_type": "stream",
     "text": [
      "{'e', 'b', 'W', 'a', ' ', 'i', 'r', 'g', 'n', 'd', 'o', \"'\", 't', '.'}\n",
      "{ebWa irgndo't.}\n",
      "{rDoeahIfyim ,nd.vs'tc}\n",
      "{ '.Wabdeginort}\n",
      "{gbW}\n",
      "{rgDoebahIfyim ,nd.Wvs'tc}\n",
      "{mg,DbcWhIfvsy}\n",
      "{iea rndo't.}\n"
     ]
    }
   ],
   "source": [
    "#SETS - like a list, but UNORDERED with unique values - order changes on each run\n",
    "def main():\n",
    "    a = set(\"We're gonna need a bigger boat.\")\n",
    "    b = set(\"I'm sorry, Dave. I'm afraid I can't do that.\")\n",
    "    print(a)\n",
    "    print_set(a)\n",
    "    print_set(b)\n",
    "    \n",
    "    print_set(sorted(a))\n",
    "    print_set(a-b)\n",
    "    print_set(a | b) #OR\n",
    "    print_set(a ^ b) #XOR\n",
    "    print_set(a & b) #AND\n",
    "\n",
    "\n",
    "def print_set(o):\n",
    "    print('{', end = '')\n",
    "    for x in o: print(x, end = '')\n",
    "    print('}')\n",
    "\n",
    "if __name__ == '__main__': main()\n"
   ]
  },
  {
   "cell_type": "code",
   "execution_count": 116,
   "id": "4643ab39",
   "metadata": {},
   "outputs": [
    {
     "name": "stdout",
     "output_type": "stream",
     "text": [
      "<class 'range'>\n",
      "1 :  0 1 2 3 4 5 6 7 8 9 10 \n",
      "<class 'list'>\n",
      "2 :  range(0, 11) \n",
      "3 :  0 1 2 3 4 5 6 7 8 9 10 \n",
      "4 :  0 2 4 6 8 10 12 14 16 18 20 \n",
      "5 :  1 2 4 5 7 8 10 \n",
      "6 :  (0, 0) (1, 1) (2, 4) (3, 9) (4, 16) (5, 25) (6, 36) (7, 49) (8, 64) (9, 81) (10, 100) \n",
      "7 :  3.0 3.1 3.14 3.142 3.1416 3.14159 3.141593 3.1415927 3.14159265 3.141592654 3.1415926536 \n",
      "<class 'dict'>\n",
      "8:  {0: 0, 1: 1, 2: 4, 3: 9, 4: 16, 5: 25, 6: 36, 7: 49, 8: 64, 9: 81, 10: 100}\n",
      "<class 'set'>\n",
      "{0, 1, 2, 3, 4, 5, 6, 7, 8, 9, 10}\n",
      "9 :  0 1 2 3 4 5 6 7 8 9 10 \n",
      "<class 'set'>\n",
      "{'d', 'r', 'b', 'l'}\n",
      "10 :  d r b l \n"
     ]
    }
   ],
   "source": [
    "#LIST COMPREHENSION - create a list/dict/set from another iterator\n",
    "def main():\n",
    "    seq = range(11)\n",
    "    print(type(seq))\n",
    "    print_list(seq,1)\n",
    "    seq2 = [seq]\n",
    "    print(type(seq2))\n",
    "    print_list(seq2,2)\n",
    "\n",
    "    seq2 = [x for x in seq]\n",
    "    print_list(seq2,3)\n",
    "    seq2 = [x*2 for x in seq]\n",
    "    print_list(seq2,4)\n",
    "    \n",
    "    seq2 = [x for x in seq if x%3 != 0]\n",
    "    print_list(seq2,5)\n",
    "    \n",
    "    seq2 = [(x, x**2) for x in seq] #create list of tuples\n",
    "    print_list(seq2,6)\n",
    "    \n",
    "    from math import pi\n",
    "    seq2 = [round(pi,i) for i in seq]\n",
    "    print_list(seq2,7)\n",
    "    \n",
    "    #create dictionary\n",
    "    seq2 = {x: x**2 for x in seq}\n",
    "    print(type(seq2))\n",
    "    print('8: ',seq2)\n",
    "    \n",
    "    #create sets\n",
    "    seq2 = {x for x in seq}\n",
    "    print(type(seq2))\n",
    "    print(seq2)\n",
    "    print_list(seq2,9)\n",
    "    \n",
    "    seq2 = {x for x in 'abracadabragiligili' if x not in 'magic'}\n",
    "    print(type(seq2))\n",
    "    print(seq2)\n",
    "    print_list(seq2,10)\n",
    "    \n",
    "def print_list(o,n=1):\n",
    "    print(n,': ', end=' ')\n",
    "    for x in o: print(x, end = ' ')\n",
    "    print()\n",
    "\n",
    "if __name__ == '__main__': main()\n"
   ]
  },
  {
   "cell_type": "code",
   "execution_count": 118,
   "id": "5e785ae7",
   "metadata": {},
   "outputs": [
    {
     "name": "stdout",
     "output_type": "stream",
     "text": [
      "<class 'list'>\n",
      "[ [ 1 'two' 3 { 4: 'four' } 5 ] \n",
      "[ 0 1 2 3 4 5 6 7 8 9 10 ] \n",
      "{ ' ' '!' \"'\" 'I' 'S' 'a' 'b' 'd' 'e' 'i' 'l' 'm' 'n' 'p' 'r' 's' 't' 'u' } \n",
      "{ one: [ 0 1 2 3 4 5 6 7 8 9 10 ] two: [ 1 'two' 3 { 4: 'four' } 5 ] three: { ' ' '!' \"'\" 'I' 'S' 'a' 'b' 'd' 'e' 'i' 'l' 'm' 'n' 'p' 'r' 's' 't' 'u' } } \n",
      "( 'one' 'two' Nada 'four' 'five' ) \n",
      "] \n"
     ]
    }
   ],
   "source": [
    "dlevel = 0 # manage nesting level\n",
    "\n",
    "def main():\n",
    "    r = range(11)\n",
    "    l = [ 1, 'two', 3, {'4': 'four' }, 5 ]\n",
    "    t = ( 'one', 'two', None, 'four', 'five' )\n",
    "    s = set(\"It's a bird! It's a plane! It's Superman!\")\n",
    "    d = dict( one = r, two = l, three = s )\n",
    "    mixed = [ l, r, s, d, t ]\n",
    "    print(type(mixed))\n",
    "    disp(mixed)\n",
    "\n",
    "def disp(o):\n",
    "    global dlevel\n",
    "\n",
    "    dlevel += 1\n",
    "    if   isinstance(o, list):  print_list(o)\n",
    "    elif isinstance(o, range): print_list(o)\n",
    "    elif isinstance(o, tuple): print_tuple(o)\n",
    "    elif isinstance(o, set):   print_set(o)\n",
    "    elif isinstance(o, dict):  print_dict(o)\n",
    "    elif o is None: print('Nada', end=' ', flush=True)\n",
    "    else: print(repr(o), end=' ', flush=True)\n",
    "    dlevel -= 1\n",
    "\n",
    "    if dlevel <= 1: print() # newline after outer\n",
    "\n",
    "def print_list(o):\n",
    "    print('[', end=' ')\n",
    "    for x in o: disp(x)\n",
    "    print(']', end=' ', flush=True)\n",
    "\n",
    "def print_tuple(o):\n",
    "    print('(', end=' ')\n",
    "    for x in o: disp(x)\n",
    "    print(')', end=' ', flush=True)\n",
    "\n",
    "def print_set(o):\n",
    "    print('{', end=' ')\n",
    "    for x in sorted(o): disp(x)\n",
    "    print('}', end=' ', flush=True)\n",
    "\n",
    "def print_dict(o):\n",
    "    print('{', end=' ')\n",
    "    for k, v in o.items():\n",
    "        print(k, end=': ' )\n",
    "        disp(v)\n",
    "    print('}', end=' ', flush=True)\n",
    "\n",
    "if __name__ == '__main__': main()\n"
   ]
  }
 ],
 "metadata": {
  "kernelspec": {
   "display_name": "Python 3",
   "language": "python",
   "name": "python3"
  },
  "language_info": {
   "codemirror_mode": {
    "name": "ipython",
    "version": 3
   },
   "file_extension": ".py",
   "mimetype": "text/x-python",
   "name": "python",
   "nbconvert_exporter": "python",
   "pygments_lexer": "ipython3",
   "version": "3.8.8"
  }
 },
 "nbformat": 4,
 "nbformat_minor": 5
}
